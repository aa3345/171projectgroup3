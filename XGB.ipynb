{
  "cells": [
    {
      "cell_type": "code",
      "execution_count": 95,
      "metadata": {
        "id": "etL9XJTY_WfE"
      },
      "outputs": [],
      "source": [
        "import pandas as pd\n",
        "import numpy as np\n",
        "import matplotlib.pyplot as plt\n",
        "import missingno as msno\n",
        "import matplotlib.pyplot as plt\n",
        "import seaborn as sns\n",
        "import xgboost as xgb\n",
        "from sklearn.model_selection import train_test_split\n",
        "from sklearn.preprocessing import OrdinalEncoder, OneHotEncoder, LabelEncoder\n",
        "from sklearn.metrics import classification_report, confusion_matrix, multilabel_confusion_matrix\n",
        "from sklearn.neural_network import MLPClassifier\n",
        "from sklearn.preprocessing import MinMaxScaler\n",
        "from sklearn.metrics import mean_squared_error, accuracy_score, precision_score, recall_score\n",
        "from sklearn.ensemble import VotingClassifier\n",
        "from sklearn.model_selection import GridSearchCV\n",
        "from xgboost import XGBClassifier\n",
        "from keras.models import Sequential\n",
        "from keras.layers import Dense, Dropout, Activation\n",
        "from keras.optimizers import SGD\n",
        "from keras.utils import plot_model"
      ]
    },
    {
      "cell_type": "code",
      "execution_count": 96,
      "metadata": {
        "id": "bHUbdUb3_WfH"
      },
      "outputs": [],
      "source": [
        "temp = pd.read_csv(\"obesity.csv\")\n",
        "columns = ['Gender', 'family_history_with_overweight', 'FAVC', 'CAEC', 'SMOKE', 'SCC', 'CALC', 'MTRANS']\n",
        "for c in columns:\n",
        "  dummies = pd.get_dummies(temp[c], prefix=(str(c)+\"_\"))\n",
        "  temp = pd.concat([temp, dummies], axis=1)\n",
        "temp = temp.drop(columns=columns)\n",
        "\n",
        "\n",
        "d = ['Insufficient_Weight',\n",
        "       'Normal_Weight', 'Overweight_Level_I', 'Overweight_Level_II', 'Obesity_Type_I',\n",
        "       'Obesity_Type_II', 'Obesity_Type_III']\n",
        "ordinal_encoder = OrdinalEncoder(categories=[d])\n",
        "temp['NObeyesdad'] = ordinal_encoder.fit_transform(temp[['NObeyesdad']])\n",
        "y_xgb = temp['NObeyesdad']\n",
        "\n",
        "temp = temp.drop('NObeyesdad', axis=1)\n",
        "scaler = MinMaxScaler(feature_range=(0, 1))\n",
        "X_rescaled = scaler.fit_transform(temp)\n",
        "X = pd.DataFrame(data = X_rescaled, columns = temp.columns)\n",
        "X_train, X_test, y_train, y_test = train_test_split(X, y_xgb, test_size=0.2, random_state=15)"
      ]
    },
    {
      "cell_type": "code",
      "source": [
        "trial = XGBClassifier(objective='multi:softprob')\n",
        "trial.fit(X_train, y_train)\n",
        "y_pred = trial.predict(X_test)\n",
        "accuracy = trial.score(X_test, y_test)\n",
        "print(\"Accuracy: %.4f%%\" % (accuracy * 100.0))"
      ],
      "metadata": {
        "colab": {
          "base_uri": "https://localhost:8080/"
        },
        "id": "KDcJ6NARPFvS",
        "outputId": "b2970840-20e7-467a-8b63-c11d35eb264d"
      },
      "execution_count": 97,
      "outputs": [
        {
          "output_type": "stream",
          "name": "stdout",
          "text": [
            "Accuracy: 97.8723%\n"
          ]
        }
      ]
    },
    {
      "cell_type": "markdown",
      "source": [
        "The accuracy here is really high at 97.8723% so we should try to reduce any possible overfitting using early stopping."
      ],
      "metadata": {
        "id": "n_aqXLjDPjSm"
      }
    },
    {
      "cell_type": "code",
      "source": [
        "X_val, X_test, y_val, y_test = train_test_split(X_test, y_test, test_size=0.5, random_state=15) #split the test set into two for a validation set of size 10% of initial data"
      ],
      "metadata": {
        "id": "h-7kYmWEtvuF"
      },
      "execution_count": 98,
      "outputs": []
    },
    {
      "cell_type": "code",
      "source": [
        "num_boost_rounds = 100\n",
        "early_stopping_rounds = 3\n",
        "earlystopxgb = XGBClassifier(objective='multi:softprob', num_class=7,eval_metric=['merror'], eta=0.1, early_stopping_rounds=early_stopping_rounds)\n",
        "earlystopxgb.fit(X_train, y_train, eval_set=[(X_val, y_val)])\n",
        "\n",
        "y_pred = earlystopxgb.predict(X_val)\n",
        "\n",
        "accuracy = accuracy_score(y_val, y_pred)\n",
        "print(\"Validation Accuracy:\", accuracy)\n",
        "y_test_pred = earlystopxgb.predict(X_test)\n",
        "print(accuracy_score(y_test, y_test_pred))"
      ],
      "metadata": {
        "colab": {
          "base_uri": "https://localhost:8080/"
        },
        "id": "aa5MBdhaFZts",
        "outputId": "b004b291-ae26-4118-b17e-0fd312cb1897"
      },
      "execution_count": 99,
      "outputs": [
        {
          "output_type": "stream",
          "name": "stdout",
          "text": [
            "[0]\tvalidation_0-merror:0.12796\n",
            "[1]\tvalidation_0-merror:0.12322\n",
            "[2]\tvalidation_0-merror:0.09479\n",
            "[3]\tvalidation_0-merror:0.07583\n",
            "[4]\tvalidation_0-merror:0.08531\n",
            "[5]\tvalidation_0-merror:0.08057\n",
            "[6]\tvalidation_0-merror:0.06635\n",
            "[7]\tvalidation_0-merror:0.06635\n",
            "[8]\tvalidation_0-merror:0.06161\n",
            "[9]\tvalidation_0-merror:0.05687\n",
            "[10]\tvalidation_0-merror:0.05687\n",
            "[11]\tvalidation_0-merror:0.05687\n",
            "[12]\tvalidation_0-merror:0.05687\n",
            "Validation Accuracy: 0.943127962085308\n",
            "0.9198113207547169\n"
          ]
        }
      ]
    },
    {
      "cell_type": "markdown",
      "source": [
        "Now with the use of early-stopping, the test accuracy is 91.9% which is more reasonable and the validation accuracy was high as well at 94.31%."
      ],
      "metadata": {
        "id": "Q7ful8VbQtJ0"
      }
    },
    {
      "cell_type": "code",
      "execution_count": 100,
      "metadata": {
        "colab": {
          "base_uri": "https://localhost:8080/"
        },
        "id": "C9xXv2HD_WfJ",
        "outputId": "940a1174-189f-4034-afad-c71b8341201a"
      },
      "outputs": [
        {
          "output_type": "stream",
          "name": "stdout",
          "text": [
            "Current Iteration: 0\n",
            "[0]\tvalidation_0-merror:0.22642\n",
            "[1]\tvalidation_0-merror:0.23585\n",
            "[2]\tvalidation_0-merror:0.22170\n",
            "[3]\tvalidation_0-merror:0.22642\n",
            "[4]\tvalidation_0-merror:0.22642\n",
            "[5]\tvalidation_0-merror:0.20755\n",
            "[6]\tvalidation_0-merror:0.18868\n",
            "[7]\tvalidation_0-merror:0.20283\n",
            "[8]\tvalidation_0-merror:0.19811\n",
            "[9]\tvalidation_0-merror:0.20283\n",
            "Current Iteration: 1\n",
            "[0]\tvalidation_0-merror:0.17536\n",
            "[1]\tvalidation_0-merror:0.18483\n",
            "[2]\tvalidation_0-merror:0.18957\n",
            "[3]\tvalidation_0-merror:0.16588\n",
            "[4]\tvalidation_0-merror:0.15166\n",
            "[5]\tvalidation_0-merror:0.14218\n",
            "[6]\tvalidation_0-merror:0.13270\n",
            "[7]\tvalidation_0-merror:0.13270\n",
            "[8]\tvalidation_0-merror:0.12796\n",
            "[9]\tvalidation_0-merror:0.12796\n",
            "[10]\tvalidation_0-merror:0.12796\n",
            "[11]\tvalidation_0-merror:0.11374\n",
            "[12]\tvalidation_0-merror:0.11374\n",
            "[13]\tvalidation_0-merror:0.10427\n",
            "[14]\tvalidation_0-merror:0.10427\n",
            "[15]\tvalidation_0-merror:0.10427\n",
            "[16]\tvalidation_0-merror:0.10900\n",
            "Current Iteration: 2\n",
            "[0]\tvalidation_0-merror:0.11848\n",
            "[1]\tvalidation_0-merror:0.10427\n",
            "[2]\tvalidation_0-merror:0.08057\n",
            "[3]\tvalidation_0-merror:0.07583\n",
            "[4]\tvalidation_0-merror:0.07109\n",
            "[5]\tvalidation_0-merror:0.06635\n",
            "[6]\tvalidation_0-merror:0.07109\n",
            "[7]\tvalidation_0-merror:0.06635\n",
            "[8]\tvalidation_0-merror:0.06161\n",
            "[9]\tvalidation_0-merror:0.05687\n",
            "[10]\tvalidation_0-merror:0.05213\n",
            "[11]\tvalidation_0-merror:0.05213\n",
            "[12]\tvalidation_0-merror:0.05687\n",
            "Current Iteration: 3\n",
            "[0]\tvalidation_0-merror:0.06161\n",
            "[1]\tvalidation_0-merror:0.06635\n",
            "[2]\tvalidation_0-merror:0.05213\n",
            "[3]\tvalidation_0-merror:0.05687\n",
            "[4]\tvalidation_0-merror:0.05213\n",
            "[5]\tvalidation_0-merror:0.04739\n",
            "[6]\tvalidation_0-merror:0.04739\n",
            "[7]\tvalidation_0-merror:0.04739\n",
            "[8]\tvalidation_0-merror:0.04739\n",
            "Current Iteration: 4\n",
            "[0]\tvalidation_0-merror:0.09479\n",
            "[1]\tvalidation_0-merror:0.07109\n",
            "[2]\tvalidation_0-merror:0.04739\n",
            "[3]\tvalidation_0-merror:0.04739\n",
            "[4]\tvalidation_0-merror:0.05213\n",
            "Current Iteration: 5\n",
            "[0]\tvalidation_0-merror:0.09005\n",
            "[1]\tvalidation_0-merror:0.09005\n",
            "[2]\tvalidation_0-merror:0.07583\n",
            "[3]\tvalidation_0-merror:0.07583\n",
            "[4]\tvalidation_0-merror:0.06161\n",
            "[5]\tvalidation_0-merror:0.06635\n",
            "[6]\tvalidation_0-merror:0.06161\n",
            "[7]\tvalidation_0-merror:0.05687\n",
            "[8]\tvalidation_0-merror:0.04739\n",
            "[9]\tvalidation_0-merror:0.04265\n",
            "[10]\tvalidation_0-merror:0.03318\n",
            "[11]\tvalidation_0-merror:0.03318\n",
            "[12]\tvalidation_0-merror:0.03318\n",
            "[13]\tvalidation_0-merror:0.03318\n",
            "Current Iteration: 6\n",
            "[0]\tvalidation_0-merror:0.07109\n",
            "[1]\tvalidation_0-merror:0.06635\n",
            "[2]\tvalidation_0-merror:0.06161\n",
            "[3]\tvalidation_0-merror:0.06161\n",
            "[4]\tvalidation_0-merror:0.05687\n",
            "[5]\tvalidation_0-merror:0.05687\n",
            "[6]\tvalidation_0-merror:0.06635\n",
            "Current Iteration: 7\n",
            "[0]\tvalidation_0-merror:0.09479\n",
            "[1]\tvalidation_0-merror:0.08531\n",
            "[2]\tvalidation_0-merror:0.09005\n",
            "[3]\tvalidation_0-merror:0.07583\n",
            "[4]\tvalidation_0-merror:0.08057\n",
            "[5]\tvalidation_0-merror:0.08057\n",
            "Current Iteration: 8\n",
            "[0]\tvalidation_0-merror:0.06635\n",
            "[1]\tvalidation_0-merror:0.07109\n",
            "[2]\tvalidation_0-merror:0.04265\n",
            "[3]\tvalidation_0-merror:0.03791\n",
            "[4]\tvalidation_0-merror:0.02844\n",
            "[5]\tvalidation_0-merror:0.02844\n",
            "[6]\tvalidation_0-merror:0.02844\n",
            "[7]\tvalidation_0-merror:0.02370\n",
            "[8]\tvalidation_0-merror:0.02370\n",
            "[9]\tvalidation_0-merror:0.02370\n",
            "Current Iteration: 9\n",
            "[0]\tvalidation_0-merror:0.08531\n",
            "[1]\tvalidation_0-merror:0.06635\n",
            "[2]\tvalidation_0-merror:0.06161\n",
            "[3]\tvalidation_0-merror:0.04739\n",
            "[4]\tvalidation_0-merror:0.04739\n",
            "[5]\tvalidation_0-merror:0.03791\n",
            "[6]\tvalidation_0-merror:0.03318\n",
            "[7]\tvalidation_0-merror:0.03318\n",
            "[8]\tvalidation_0-merror:0.03318\n",
            "[9]\tvalidation_0-merror:0.02844\n",
            "[10]\tvalidation_0-merror:0.02844\n",
            "[11]\tvalidation_0-merror:0.02844\n",
            "[12]\tvalidation_0-merror:0.02844\n",
            "Mean accuracy: 0.9342126441920773\n"
          ]
        }
      ],
      "source": [
        "#XGB Cross Validation - https://machinelearningmastery.com/evaluate-gradient-boosting-models-xgboost-python/\n",
        "from sklearn.model_selection import cross_val_score\n",
        "from sklearn.model_selection import StratifiedKFold\n",
        "def train_evaluateXGB(model, xtrain, ytrain, xtest, ytest):\n",
        "  model.fit(xtrain, ytrain, eval_set=[(xtest,ytest)])\n",
        "  accuracy = model.score(xtest, ytest)\n",
        "  return accuracy\n",
        "kFold = StratifiedKFold(n_splits = 10)\n",
        "i=0\n",
        "sum=0\n",
        "for train, test in kFold.split(temp,y_xgb):\n",
        "  print(\"Current Iteration:\",i)\n",
        "  modelxgb = None\n",
        "  modelxgb = earlystopxgb\n",
        "  acc = train_evaluateXGB(modelxgb,temp.loc[[x for x in train]],y_xgb.loc[[x for x in train]],temp.loc[[x for x in test]],y_xgb.loc[[x for x in test]])\n",
        "  i+=1\n",
        "  sum += acc\n",
        "\n",
        "print(\"Mean accuracy:\", (sum/i))\n",
        "#Mean accuracy: 0.9237950460520432"
      ]
    },
    {
      "cell_type": "markdown",
      "source": [
        "Our cross-validation ran well too giving a mean accuracy of 93.4% so our model does well."
      ],
      "metadata": {
        "id": "t41thxlFsJQC"
      }
    },
    {
      "cell_type": "code",
      "execution_count": 101,
      "metadata": {
        "id": "n5Pf2LXr_WfJ"
      },
      "outputs": [],
      "source": [
        "import pickle"
      ]
    },
    {
      "cell_type": "code",
      "execution_count": 102,
      "metadata": {
        "id": "tdFswS0Q_WfK"
      },
      "outputs": [],
      "source": [
        "filename = 'xgb_model.sav'\n",
        "pickle.dump(earlystopxgb, open(filename, 'wb'))\n"
      ]
    }
  ],
  "metadata": {
    "kernelspec": {
      "display_name": "base",
      "language": "python",
      "name": "python3"
    },
    "language_info": {
      "codemirror_mode": {
        "name": "ipython",
        "version": 3
      },
      "file_extension": ".py",
      "mimetype": "text/x-python",
      "name": "python",
      "nbconvert_exporter": "python",
      "pygments_lexer": "ipython3",
      "version": "3.11.4"
    },
    "colab": {
      "provenance": []
    }
  },
  "nbformat": 4,
  "nbformat_minor": 0
}