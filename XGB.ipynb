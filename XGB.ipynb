{
  "cells": [
    {
      "cell_type": "code",
      "execution_count": 30,
      "metadata": {
        "id": "etL9XJTY_WfE"
      },
      "outputs": [],
      "source": [
        "import pandas as pd\n",
        "import numpy as np\n",
        "import matplotlib.pyplot as plt\n",
        "import missingno as msno\n",
        "import matplotlib.pyplot as plt\n",
        "import seaborn as sns\n",
        "import xgboost as xgb\n",
        "from sklearn.model_selection import train_test_split\n",
        "from sklearn.preprocessing import OrdinalEncoder, OneHotEncoder, LabelEncoder\n",
        "from sklearn.metrics import classification_report, confusion_matrix, multilabel_confusion_matrix\n",
        "from sklearn.neural_network import MLPClassifier\n",
        "from sklearn.preprocessing import MinMaxScaler\n",
        "from sklearn.metrics import mean_squared_error, accuracy_score, precision_score, recall_score\n",
        "from sklearn.ensemble import VotingClassifier\n",
        "from sklearn.model_selection import GridSearchCV\n",
        "from xgboost import XGBClassifier\n",
        "from keras.models import Sequential\n",
        "from keras.layers import Dense, Dropout, Activation\n",
        "from keras.optimizers import SGD\n",
        "from keras.utils import plot_model"
      ]
    },
    {
      "cell_type": "code",
      "execution_count": 31,
      "metadata": {
        "id": "bHUbdUb3_WfH"
      },
      "outputs": [],
      "source": [
        "temp = pd.read_csv(\"obesity.csv\")\n",
        "columns = ['Gender', 'family_history_with_overweight', 'FAVC', 'CAEC', 'SMOKE', 'SCC', 'CALC', 'MTRANS']\n",
        "for c in columns:\n",
        "  dummies = pd.get_dummies(temp[c], prefix=(str(c)+\"_\"))\n",
        "  temp = pd.concat([temp, dummies], axis=1)\n",
        "temp = temp.drop(columns=columns)\n",
        "\n",
        "\n",
        "d = ['Insufficient_Weight',\n",
        "       'Normal_Weight', 'Overweight_Level_I', 'Overweight_Level_II', 'Obesity_Type_I',\n",
        "       'Obesity_Type_II', 'Obesity_Type_III']\n",
        "ordinal_encoder = OrdinalEncoder(categories=[d])\n",
        "temp['NObeyesdad'] = ordinal_encoder.fit_transform(temp[['NObeyesdad']])\n",
        "y_xgb = temp['NObeyesdad']\n",
        "\n",
        "temp = temp.drop('NObeyesdad', axis=1)\n",
        "scaler = MinMaxScaler(feature_range=(0, 1))\n",
        "X_rescaled = scaler.fit_transform(temp)\n",
        "X = pd.DataFrame(data = X_rescaled, columns = temp.columns)\n",
        "X_train, X_test, y_train, y_test = train_test_split(X, y_xgb, test_size=0.2, random_state=15)\n",
        "X_test_val, X_val, y_test_val, y_val = train_test_split(X_test, y_test, test_size=0.5, random_state=15)\n",
        "eval_set = [(X_train, y_train), (X_val, y_val)]"
      ]
    },
    {
      "cell_type": "code",
      "source": [
        "trial = XGBClassifier(objective='multi:softprob',eval_metric=[\"merror\"])\n",
        "trial.fit(X_train, y_train, eval_set=eval_set, verbose=True)\n",
        "y_pred = trial.predict(X_test_val)\n",
        "print(\" Test Accuracy: \", accuracy_score(y_test_val, y_pred))\n",
        "y_train_pred = trial.predict(X_train)\n",
        "print(\" Train Accuracy: \", accuracy_score(y_train, y_train_pred))\n"
      ],
      "metadata": {
        "colab": {
          "base_uri": "https://localhost:8080/"
        },
        "id": "KDcJ6NARPFvS",
        "outputId": "43568d7f-4301-48ce-d698-9325b70615c8"
      },
      "execution_count": 32,
      "outputs": [
        {
          "output_type": "stream",
          "name": "stdout",
          "text": [
            "[0]\tvalidation_0-merror:0.07168\tvalidation_1-merror:0.12736\n",
            "[1]\tvalidation_0-merror:0.05273\tvalidation_1-merror:0.09434\n",
            "[2]\tvalidation_0-merror:0.04384\tvalidation_1-merror:0.08019\n",
            "[3]\tvalidation_0-merror:0.03614\tvalidation_1-merror:0.07547\n",
            "[4]\tvalidation_0-merror:0.02903\tvalidation_1-merror:0.07075\n",
            "[5]\tvalidation_0-merror:0.02488\tvalidation_1-merror:0.07075\n",
            "[6]\tvalidation_0-merror:0.02073\tvalidation_1-merror:0.08019\n",
            "[7]\tvalidation_0-merror:0.01422\tvalidation_1-merror:0.06604\n",
            "[8]\tvalidation_0-merror:0.01244\tvalidation_1-merror:0.06132\n",
            "[9]\tvalidation_0-merror:0.01066\tvalidation_1-merror:0.06132\n",
            "[10]\tvalidation_0-merror:0.01007\tvalidation_1-merror:0.05660\n",
            "[11]\tvalidation_0-merror:0.00711\tvalidation_1-merror:0.04717\n",
            "[12]\tvalidation_0-merror:0.00415\tvalidation_1-merror:0.03774\n",
            "[13]\tvalidation_0-merror:0.00178\tvalidation_1-merror:0.03302\n",
            "[14]\tvalidation_0-merror:0.00118\tvalidation_1-merror:0.03302\n",
            "[15]\tvalidation_0-merror:0.00118\tvalidation_1-merror:0.02830\n",
            "[16]\tvalidation_0-merror:0.00118\tvalidation_1-merror:0.02830\n",
            "[17]\tvalidation_0-merror:0.00118\tvalidation_1-merror:0.02830\n",
            "[18]\tvalidation_0-merror:0.00059\tvalidation_1-merror:0.02358\n",
            "[19]\tvalidation_0-merror:0.00059\tvalidation_1-merror:0.02358\n",
            "[20]\tvalidation_0-merror:0.00000\tvalidation_1-merror:0.02358\n",
            "[21]\tvalidation_0-merror:0.00000\tvalidation_1-merror:0.02358\n",
            "[22]\tvalidation_0-merror:0.00000\tvalidation_1-merror:0.02358\n",
            "[23]\tvalidation_0-merror:0.00000\tvalidation_1-merror:0.02358\n",
            "[24]\tvalidation_0-merror:0.00000\tvalidation_1-merror:0.01887\n",
            "[25]\tvalidation_0-merror:0.00000\tvalidation_1-merror:0.01887\n",
            "[26]\tvalidation_0-merror:0.00000\tvalidation_1-merror:0.01887\n",
            "[27]\tvalidation_0-merror:0.00000\tvalidation_1-merror:0.01887\n",
            "[28]\tvalidation_0-merror:0.00000\tvalidation_1-merror:0.01887\n",
            "[29]\tvalidation_0-merror:0.00000\tvalidation_1-merror:0.01887\n",
            "[30]\tvalidation_0-merror:0.00000\tvalidation_1-merror:0.01887\n",
            "[31]\tvalidation_0-merror:0.00000\tvalidation_1-merror:0.01887\n",
            "[32]\tvalidation_0-merror:0.00000\tvalidation_1-merror:0.01887\n",
            "[33]\tvalidation_0-merror:0.00000\tvalidation_1-merror:0.01887\n",
            "[34]\tvalidation_0-merror:0.00000\tvalidation_1-merror:0.01887\n",
            "[35]\tvalidation_0-merror:0.00000\tvalidation_1-merror:0.01887\n",
            "[36]\tvalidation_0-merror:0.00000\tvalidation_1-merror:0.01887\n",
            "[37]\tvalidation_0-merror:0.00000\tvalidation_1-merror:0.01887\n",
            "[38]\tvalidation_0-merror:0.00000\tvalidation_1-merror:0.01887\n",
            "[39]\tvalidation_0-merror:0.00000\tvalidation_1-merror:0.01887\n",
            "[40]\tvalidation_0-merror:0.00000\tvalidation_1-merror:0.01887\n",
            "[41]\tvalidation_0-merror:0.00000\tvalidation_1-merror:0.01415\n",
            "[42]\tvalidation_0-merror:0.00000\tvalidation_1-merror:0.01415\n",
            "[43]\tvalidation_0-merror:0.00000\tvalidation_1-merror:0.01415\n",
            "[44]\tvalidation_0-merror:0.00000\tvalidation_1-merror:0.01415\n",
            "[45]\tvalidation_0-merror:0.00000\tvalidation_1-merror:0.01415\n",
            "[46]\tvalidation_0-merror:0.00000\tvalidation_1-merror:0.01415\n",
            "[47]\tvalidation_0-merror:0.00000\tvalidation_1-merror:0.01415\n",
            "[48]\tvalidation_0-merror:0.00000\tvalidation_1-merror:0.01415\n",
            "[49]\tvalidation_0-merror:0.00000\tvalidation_1-merror:0.01415\n",
            "[50]\tvalidation_0-merror:0.00000\tvalidation_1-merror:0.01415\n",
            "[51]\tvalidation_0-merror:0.00000\tvalidation_1-merror:0.01415\n",
            "[52]\tvalidation_0-merror:0.00000\tvalidation_1-merror:0.01415\n",
            "[53]\tvalidation_0-merror:0.00000\tvalidation_1-merror:0.01415\n",
            "[54]\tvalidation_0-merror:0.00000\tvalidation_1-merror:0.01415\n",
            "[55]\tvalidation_0-merror:0.00000\tvalidation_1-merror:0.01415\n",
            "[56]\tvalidation_0-merror:0.00000\tvalidation_1-merror:0.01415\n",
            "[57]\tvalidation_0-merror:0.00000\tvalidation_1-merror:0.01415\n",
            "[58]\tvalidation_0-merror:0.00000\tvalidation_1-merror:0.01415\n",
            "[59]\tvalidation_0-merror:0.00000\tvalidation_1-merror:0.01415\n",
            "[60]\tvalidation_0-merror:0.00000\tvalidation_1-merror:0.01415\n",
            "[61]\tvalidation_0-merror:0.00000\tvalidation_1-merror:0.01415\n",
            "[62]\tvalidation_0-merror:0.00000\tvalidation_1-merror:0.01415\n",
            "[63]\tvalidation_0-merror:0.00000\tvalidation_1-merror:0.01415\n",
            "[64]\tvalidation_0-merror:0.00000\tvalidation_1-merror:0.01415\n",
            "[65]\tvalidation_0-merror:0.00000\tvalidation_1-merror:0.01415\n",
            "[66]\tvalidation_0-merror:0.00000\tvalidation_1-merror:0.01415\n",
            "[67]\tvalidation_0-merror:0.00000\tvalidation_1-merror:0.01415\n",
            "[68]\tvalidation_0-merror:0.00000\tvalidation_1-merror:0.01415\n",
            "[69]\tvalidation_0-merror:0.00000\tvalidation_1-merror:0.01415\n",
            "[70]\tvalidation_0-merror:0.00000\tvalidation_1-merror:0.01415\n",
            "[71]\tvalidation_0-merror:0.00000\tvalidation_1-merror:0.01415\n",
            "[72]\tvalidation_0-merror:0.00000\tvalidation_1-merror:0.01415\n",
            "[73]\tvalidation_0-merror:0.00000\tvalidation_1-merror:0.01415\n",
            "[74]\tvalidation_0-merror:0.00000\tvalidation_1-merror:0.01415\n",
            "[75]\tvalidation_0-merror:0.00000\tvalidation_1-merror:0.01415\n",
            "[76]\tvalidation_0-merror:0.00000\tvalidation_1-merror:0.01415\n",
            "[77]\tvalidation_0-merror:0.00000\tvalidation_1-merror:0.00943\n",
            "[78]\tvalidation_0-merror:0.00000\tvalidation_1-merror:0.00943\n",
            "[79]\tvalidation_0-merror:0.00000\tvalidation_1-merror:0.01415\n",
            "[80]\tvalidation_0-merror:0.00000\tvalidation_1-merror:0.01415\n",
            "[81]\tvalidation_0-merror:0.00000\tvalidation_1-merror:0.01415\n",
            "[82]\tvalidation_0-merror:0.00000\tvalidation_1-merror:0.00943\n",
            "[83]\tvalidation_0-merror:0.00000\tvalidation_1-merror:0.00943\n",
            "[84]\tvalidation_0-merror:0.00000\tvalidation_1-merror:0.00943\n",
            "[85]\tvalidation_0-merror:0.00000\tvalidation_1-merror:0.00943\n",
            "[86]\tvalidation_0-merror:0.00000\tvalidation_1-merror:0.00943\n",
            "[87]\tvalidation_0-merror:0.00000\tvalidation_1-merror:0.00943\n",
            "[88]\tvalidation_0-merror:0.00000\tvalidation_1-merror:0.00943\n",
            "[89]\tvalidation_0-merror:0.00000\tvalidation_1-merror:0.00943\n",
            "[90]\tvalidation_0-merror:0.00000\tvalidation_1-merror:0.00943\n",
            "[91]\tvalidation_0-merror:0.00000\tvalidation_1-merror:0.00943\n",
            "[92]\tvalidation_0-merror:0.00000\tvalidation_1-merror:0.00943\n",
            "[93]\tvalidation_0-merror:0.00000\tvalidation_1-merror:0.00943\n",
            "[94]\tvalidation_0-merror:0.00000\tvalidation_1-merror:0.00943\n",
            "[95]\tvalidation_0-merror:0.00000\tvalidation_1-merror:0.00943\n",
            "[96]\tvalidation_0-merror:0.00000\tvalidation_1-merror:0.00943\n",
            "[97]\tvalidation_0-merror:0.00000\tvalidation_1-merror:0.00943\n",
            "[98]\tvalidation_0-merror:0.00000\tvalidation_1-merror:0.01415\n",
            "[99]\tvalidation_0-merror:0.00000\tvalidation_1-merror:0.01415\n",
            " Test Accuracy:  0.9715639810426541\n",
            " Train Accuracy:  1.0\n"
          ]
        }
      ]
    },
    {
      "cell_type": "markdown",
      "source": [
        "The test accuracy here is really high at 97.16% so we should look for any overfitting, because this model seems to be great at first glance."
      ],
      "metadata": {
        "id": "n_aqXLjDPjSm"
      }
    },
    {
      "cell_type": "code",
      "source": [
        "res = trial.evals_result()\n",
        "epochs = len(res['validation_0']['merror'])\n",
        "x = range(0, epochs)\n",
        "plt.plot(x, res['validation_0']['merror'], label='Train')\n",
        "plt.plot(x, res['validation_1']['merror'], label='Validation')\n",
        "plt.legend()\n",
        "plt.ylabel('Error')\n",
        "plt.title('XGBoost Classification Error')\n",
        "plt.xlabel('Epochs number')\n",
        "plt.show()"
      ],
      "metadata": {
        "colab": {
          "base_uri": "https://localhost:8080/",
          "height": 472
        },
        "id": "Spx1ZKOIiAV6",
        "outputId": "c2e3dcc9-0b6c-4837-f4f0-ce3a0b6e2f26"
      },
      "execution_count": 39,
      "outputs": [
        {
          "output_type": "display_data",
          "data": {
            "text/plain": [
              "<Figure size 640x480 with 1 Axes>"
            ],
            "image/png": "[encoded data removed]"
          },
          "metadata": {}
        }
      ]
    },
    {
      "cell_type": "markdown",
      "source": [
        "After plotting the error term for each epoch for both the train and test set as our validation data, we can see that after the range of 20 and 40 epochs, the model doesn't make any big improvements. Therefore, we created an early stopping model that tries to stop the model after 40 epochs, so no overfitting happens since past 40 epochs the model doesn't improve."
      ],
      "metadata": {
        "id": "nQ0sbCmEauE8"
      }
    },
    {
      "cell_type": "code",
      "source": [
        "earlystopxgb = XGBClassifier(objective='multi:softprob', num_class=7,eval_metric=['merror'], early_stopping_rounds=3)\n",
        "earlystopxgb.fit(X_train, y_train, eval_set=[(X_val, y_val)])\n",
        "\n",
        "y_pred = earlystopxgb.predict(X_test_val)\n",
        "\n",
        "print(\"Test Accuracy:\", accuracy_score(y_test_val, y_pred))\n",
        "print(\"Test Precision:\", precision_score(y_test_val, y_pred, average='weighted'))\n",
        "print(\"Test Recall:\", recall_score(y_test_val, y_pred, average='weighted'))"
      ],
      "metadata": {
        "colab": {
          "base_uri": "https://localhost:8080/"
        },
        "id": "aa5MBdhaFZts",
        "outputId": "a78416ee-c53b-406e-c3de-520fd072a62a"
      },
      "execution_count": 34,
      "outputs": [
        {
          "output_type": "stream",
          "name": "stdout",
          "text": [
            "[0]\tvalidation_0-merror:0.12736\n",
            "[1]\tvalidation_0-merror:0.09434\n",
            "[2]\tvalidation_0-merror:0.08019\n",
            "[3]\tvalidation_0-merror:0.07547\n",
            "[4]\tvalidation_0-merror:0.07075\n",
            "[5]\tvalidation_0-merror:0.07075\n",
            "[6]\tvalidation_0-merror:0.08019\n",
            "[7]\tvalidation_0-merror:0.06604\n",
            "[8]\tvalidation_0-merror:0.06132\n",
            "[9]\tvalidation_0-merror:0.06132\n",
            "[10]\tvalidation_0-merror:0.05660\n",
            "[11]\tvalidation_0-merror:0.04717\n",
            "[12]\tvalidation_0-merror:0.03774\n",
            "[13]\tvalidation_0-merror:0.03302\n",
            "[14]\tvalidation_0-merror:0.03302\n",
            "[15]\tvalidation_0-merror:0.02830\n",
            "[16]\tvalidation_0-merror:0.02830\n",
            "[17]\tvalidation_0-merror:0.02830\n",
            "[18]\tvalidation_0-merror:0.02358\n",
            "[19]\tvalidation_0-merror:0.02358\n",
            "[20]\tvalidation_0-merror:0.02358\n",
            "Test Accuracy: 0.976303317535545\n",
            "Test Precision: 0.9763070561388675\n",
            "Test Recall: 0.976303317535545\n"
          ]
        }
      ]
    },
    {
      "cell_type": "code",
      "source": [
        "res = earlystopxgb.evals_result()\n",
        "epochs = len(res['validation_0']['merror'])\n",
        "x = range(0,  epochs)\n",
        "plt.plot(x, res['validation_0']['merror'], label='Validation')\n",
        "plt.legend()\n",
        "plt.ylabel('Classification Error')\n",
        "plt.xlabel('Epochs')\n",
        "plt.title('XGBoost Classification Error')\n",
        "plt.show()"
      ],
      "metadata": {
        "colab": {
          "base_uri": "https://localhost:8080/",
          "height": 472
        },
        "id": "QlrqFdMbi6oh",
        "outputId": "94d53e7e-6b5a-48d7-83bd-1c6a8d11b54c"
      },
      "execution_count": 35,
      "outputs": [
        {
          "output_type": "display_data",
          "data": {
            "text/plain": [
              "<Figure size 640x480 with 1 Axes>"
            ],
            "image/png": "[encoded data removed]"
          },
          "metadata": {}
        }
      ]
    },
    {
      "cell_type": "markdown",
      "source": [
        "Now with the use of early-stopping, the test accuracy is 97.63% which is more reasonable and the validation error was low at .02, and the epochs used are a lot less so there is less chances of overfitting. It also stops training at 21 epochs which is what we wanted (something between 20 and 40)"
      ],
      "metadata": {
        "id": "Q7ful8VbQtJ0"
      }
    },
    {
      "cell_type": "code",
      "execution_count": 36,
      "metadata": {
        "colab": {
          "base_uri": "https://localhost:8080/"
        },
        "id": "C9xXv2HD_WfJ",
        "outputId": "8b6e4830-585e-4592-b51e-6c5280f49c97"
      },
      "outputs": [
        {
          "output_type": "stream",
          "name": "stdout",
          "text": [
            "Current Iteration: 0\n",
            "[0]\tvalidation_0-merror:0.22642\n",
            "[1]\tvalidation_0-merror:0.23585\n",
            "[2]\tvalidation_0-merror:0.22170\n",
            "[3]\tvalidation_0-merror:0.22642\n",
            "[4]\tvalidation_0-merror:0.22642\n",
            "[5]\tvalidation_0-merror:0.21226\n",
            "[6]\tvalidation_0-merror:0.20283\n",
            "[7]\tvalidation_0-merror:0.18868\n",
            "[8]\tvalidation_0-merror:0.18868\n",
            "[9]\tvalidation_0-merror:0.18868\n",
            "Accuracy for each Fold:  0.8113207547169812\n",
            "Current Iteration: 1\n",
            "[0]\tvalidation_0-merror:0.17536\n",
            "[1]\tvalidation_0-merror:0.16114\n",
            "[2]\tvalidation_0-merror:0.13744\n",
            "[3]\tvalidation_0-merror:0.11848\n",
            "[4]\tvalidation_0-merror:0.12796\n",
            "[5]\tvalidation_0-merror:0.11374\n",
            "[6]\tvalidation_0-merror:0.11374\n",
            "[7]\tvalidation_0-merror:0.10427\n",
            "[8]\tvalidation_0-merror:0.09479\n",
            "[9]\tvalidation_0-merror:0.09005\n",
            "[10]\tvalidation_0-merror:0.08531\n",
            "[11]\tvalidation_0-merror:0.09005\n",
            "[12]\tvalidation_0-merror:0.08531\n",
            "Accuracy for each Fold:  0.9146919431279621\n",
            "Current Iteration: 2\n",
            "[0]\tvalidation_0-merror:0.11848\n",
            "[1]\tvalidation_0-merror:0.06161\n",
            "[2]\tvalidation_0-merror:0.04739\n",
            "[3]\tvalidation_0-merror:0.04265\n",
            "[4]\tvalidation_0-merror:0.04265\n",
            "[5]\tvalidation_0-merror:0.04265\n",
            "[6]\tvalidation_0-merror:0.03318\n",
            "[7]\tvalidation_0-merror:0.02844\n",
            "[8]\tvalidation_0-merror:0.02370\n",
            "[9]\tvalidation_0-merror:0.02370\n",
            "[10]\tvalidation_0-merror:0.02844\n",
            "[11]\tvalidation_0-merror:0.02844\n",
            "Accuracy for each Fold:  0.976303317535545\n",
            "Current Iteration: 3\n",
            "[0]\tvalidation_0-merror:0.06161\n",
            "[1]\tvalidation_0-merror:0.05687\n",
            "[2]\tvalidation_0-merror:0.07109\n",
            "[3]\tvalidation_0-merror:0.08057\n",
            "[4]\tvalidation_0-merror:0.05687\n",
            "Accuracy for each Fold:  0.943127962085308\n",
            "Current Iteration: 4\n",
            "[0]\tvalidation_0-merror:0.09479\n",
            "[1]\tvalidation_0-merror:0.05687\n",
            "[2]\tvalidation_0-merror:0.04739\n",
            "[3]\tvalidation_0-merror:0.03791\n",
            "[4]\tvalidation_0-merror:0.03791\n",
            "[5]\tvalidation_0-merror:0.03791\n",
            "[6]\tvalidation_0-merror:0.03791\n",
            "Accuracy for each Fold:  0.9620853080568721\n",
            "Current Iteration: 5\n",
            "[0]\tvalidation_0-merror:0.09005\n",
            "[1]\tvalidation_0-merror:0.05687\n",
            "[2]\tvalidation_0-merror:0.06161\n",
            "[3]\tvalidation_0-merror:0.05687\n",
            "[4]\tvalidation_0-merror:0.04265\n",
            "[5]\tvalidation_0-merror:0.03318\n",
            "[6]\tvalidation_0-merror:0.03318\n",
            "[7]\tvalidation_0-merror:0.02844\n",
            "[8]\tvalidation_0-merror:0.01422\n",
            "[9]\tvalidation_0-merror:0.01422\n",
            "[10]\tvalidation_0-merror:0.00948\n",
            "[11]\tvalidation_0-merror:0.00474\n",
            "[12]\tvalidation_0-merror:0.00474\n",
            "[13]\tvalidation_0-merror:0.00474\n",
            "[14]\tvalidation_0-merror:0.00948\n",
            "Accuracy for each Fold:  0.995260663507109\n",
            "Current Iteration: 6\n",
            "[0]\tvalidation_0-merror:0.07109\n",
            "[1]\tvalidation_0-merror:0.06635\n",
            "[2]\tvalidation_0-merror:0.04739\n",
            "[3]\tvalidation_0-merror:0.04265\n",
            "[4]\tvalidation_0-merror:0.04265\n",
            "[5]\tvalidation_0-merror:0.04265\n",
            "Accuracy for each Fold:  0.957345971563981\n",
            "Current Iteration: 7\n",
            "[0]\tvalidation_0-merror:0.09479\n",
            "[1]\tvalidation_0-merror:0.07583\n",
            "[2]\tvalidation_0-merror:0.06635\n",
            "[3]\tvalidation_0-merror:0.06161\n",
            "[4]\tvalidation_0-merror:0.05687\n",
            "[5]\tvalidation_0-merror:0.05213\n",
            "[6]\tvalidation_0-merror:0.03791\n",
            "[7]\tvalidation_0-merror:0.03791\n",
            "[8]\tvalidation_0-merror:0.03791\n",
            "[9]\tvalidation_0-merror:0.03318\n",
            "[10]\tvalidation_0-merror:0.03318\n",
            "[11]\tvalidation_0-merror:0.02370\n",
            "[12]\tvalidation_0-merror:0.01896\n",
            "[13]\tvalidation_0-merror:0.02370\n",
            "[14]\tvalidation_0-merror:0.01422\n",
            "[15]\tvalidation_0-merror:0.01896\n",
            "[16]\tvalidation_0-merror:0.01422\n",
            "[17]\tvalidation_0-merror:0.01422\n",
            "Accuracy for each Fold:  0.985781990521327\n",
            "Current Iteration: 8\n",
            "[0]\tvalidation_0-merror:0.06635\n",
            "[1]\tvalidation_0-merror:0.02844\n",
            "[2]\tvalidation_0-merror:0.02844\n",
            "[3]\tvalidation_0-merror:0.03791\n",
            "Accuracy for each Fold:  0.9715639810426541\n",
            "Current Iteration: 9\n",
            "[0]\tvalidation_0-merror:0.08531\n",
            "[1]\tvalidation_0-merror:0.07109\n",
            "[2]\tvalidation_0-merror:0.05213\n",
            "[3]\tvalidation_0-merror:0.03791\n",
            "[4]\tvalidation_0-merror:0.03318\n",
            "[5]\tvalidation_0-merror:0.02370\n",
            "[6]\tvalidation_0-merror:0.01422\n",
            "[7]\tvalidation_0-merror:0.01422\n",
            "[8]\tvalidation_0-merror:0.01422\n",
            "Accuracy for each Fold:  0.985781990521327\n",
            "Mean accuracy: 0.9503263882679066\n"
          ]
        }
      ],
      "source": [
        "#XGB Cross Validation - https://machinelearningmastery.com/evaluate-gradient-boosting-models-xgboost-python/\n",
        "from sklearn.model_selection import cross_val_score\n",
        "from sklearn.model_selection import StratifiedKFold\n",
        "def train_evaluateXGB(model, xtrain, ytrain, xtest, ytest):\n",
        "  model.fit(xtrain, ytrain, eval_set=[(xtest,ytest)])\n",
        "  accuracy = model.score(xtest, ytest)\n",
        "  return accuracy\n",
        "kFold = StratifiedKFold(n_splits = 10)\n",
        "i=0\n",
        "sum=0\n",
        "for train, test in kFold.split(temp,y_xgb):\n",
        "  print(\"Current Iteration:\",i)\n",
        "  modelxgb = None\n",
        "  modelxgb = earlystopxgb\n",
        "  acc = train_evaluateXGB(modelxgb,temp.loc[[x for x in train]],y_xgb.loc[[x for x in train]],temp.loc[[x for x in test]],y_xgb.loc[[x for x in test]])\n",
        "  print(\"Accuracy for each Fold: \", acc)\n",
        "  i+=1\n",
        "  sum += acc\n",
        "\n",
        "print(\"Mean accuracy:\", (sum/i))\n",
        "#Mean accuracy: 0.9237950460520432"
      ]
    },
    {
      "cell_type": "markdown",
      "source": [
        "Our cross-validation ran well too giving a mean accuracy of 95.03%, but performs not as well in the first fold. The other folds are all really good though."
      ],
      "metadata": {
        "id": "t41thxlFsJQC"
      }
    },
    {
      "cell_type": "code",
      "execution_count": 40,
      "metadata": {
        "id": "n5Pf2LXr_WfJ"
      },
      "outputs": [],
      "source": [
        "import pickle"
      ]
    },
    {
      "cell_type": "code",
      "execution_count": 41,
      "metadata": {
        "id": "tdFswS0Q_WfK"
      },
      "outputs": [],
      "source": [
        "filename = 'xgb_model.sav'\n",
        "pickle.dump(earlystopxgb, open(filename, 'wb'))\n"
      ]
    }
  ],
  "metadata": {
    "kernelspec": {
      "display_name": "base",
      "language": "python",
      "name": "python3"
    },
    "language_info": {
      "codemirror_mode": {
        "name": "ipython",
        "version": 3
      },
      "file_extension": ".py",
      "mimetype": "text/x-python",
      "name": "python",
      "nbconvert_exporter": "python",
      "pygments_lexer": "ipython3",
      "version": "3.11.4"
    },
    "colab": {
      "provenance": []
    }
  },
  "nbformat": 4,
  "nbformat_minor": 0
}