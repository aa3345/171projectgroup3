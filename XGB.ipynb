{
  "cells": [
    {
      "cell_type": "code",
      "execution_count": 33,
      "metadata": {
        "id": "etL9XJTY_WfE"
      },
      "outputs": [],
      "source": [
        "import pandas as pd\n",
        "import numpy as np\n",
        "import matplotlib.pyplot as plt\n",
        "import missingno as msno\n",
        "import matplotlib.pyplot as plt\n",
        "import seaborn as sns\n",
        "import xgboost as xgb\n",
        "from sklearn.model_selection import train_test_split\n",
        "from sklearn.preprocessing import OrdinalEncoder, OneHotEncoder, LabelEncoder\n",
        "from sklearn.metrics import classification_report, confusion_matrix, multilabel_confusion_matrix\n",
        "from sklearn.neural_network import MLPClassifier\n",
        "from sklearn.preprocessing import MinMaxScaler\n",
        "from sklearn.metrics import mean_squared_error, accuracy_score, precision_score, recall_score\n",
        "from sklearn.ensemble import VotingClassifier\n",
        "from sklearn.model_selection import GridSearchCV\n",
        "from xgboost import XGBClassifier\n",
        "from keras.models import Sequential\n",
        "from keras.layers import Dense, Dropout, Activation\n",
        "from keras.optimizers import SGD\n",
        "from keras.utils import plot_model"
      ]
    },
    {
      "cell_type": "code",
      "execution_count": 34,
      "metadata": {
        "id": "bHUbdUb3_WfH"
      },
      "outputs": [],
      "source": [
        "temp = pd.read_csv(\"obesity.csv\")\n",
        "columns = ['Gender', 'family_history_with_overweight', 'FAVC', 'CAEC', 'SMOKE', 'SCC', 'CALC', 'MTRANS']\n",
        "for c in columns:\n",
        "  dummies = pd.get_dummies(temp[c], prefix=(str(c)+\"_\"))\n",
        "  temp = pd.concat([temp, dummies], axis=1)\n",
        "temp = temp.drop(columns=columns)\n",
        "\n",
        "\n",
        "d = ['Insufficient_Weight',\n",
        "       'Normal_Weight', 'Overweight_Level_I', 'Overweight_Level_II', 'Obesity_Type_I',\n",
        "       'Obesity_Type_II', 'Obesity_Type_III']\n",
        "ordinal_encoder = OrdinalEncoder(categories=[d])\n",
        "temp['NObeyesdad'] = ordinal_encoder.fit_transform(temp[['NObeyesdad']])\n",
        "y_xgb = temp['NObeyesdad']\n",
        "\n",
        "temp = temp.drop('NObeyesdad', axis=1)\n",
        "scaler = MinMaxScaler(feature_range=(0, 1))\n",
        "X_rescaled = scaler.fit_transform(temp)\n",
        "X = pd.DataFrame(data = X_rescaled, columns = temp.columns)\n",
        "X_train, X_test, y_train, y_test = train_test_split(X, y_xgb, test_size=0.2, random_state=15)\n",
        "eval_set = [(X_train, y_train), (X_test, y_test)]"
      ]
    },
    {
      "cell_type": "code",
      "source": [
        "trial = XGBClassifier(objective='multi:softprob',eval_metric=[\"merror\"])\n",
        "trial.fit(X_train, y_train, eval_set=eval_set, verbose=True)\n",
        "y_pred = trial.predict(X_test)\n",
        "accuracy = trial.score(X_test, y_test)\n",
        "print(\" Test Accuracy: %.4f%%\" % (accuracy * 100.0))\n",
        "y_train_pred = trial.predict(X_train)\n",
        "train_accuracy = trial.score(X_train, y_train)\n",
        "print(\" Train Accuracy: %.4f%%\" % (train_accuracy * 100.0))\n"
      ],
      "metadata": {
        "colab": {
          "base_uri": "https://localhost:8080/"
        },
        "id": "KDcJ6NARPFvS",
        "outputId": "017348bd-8d0d-454a-8941-8e103f307c7f"
      },
      "execution_count": 35,
      "outputs": [
        {
          "output_type": "stream",
          "name": "stdout",
          "text": [
            "[0]\tvalidation_0-merror:0.07168\tvalidation_1-merror:0.12766\n",
            "[1]\tvalidation_0-merror:0.05273\tvalidation_1-merror:0.09456\n",
            "[2]\tvalidation_0-merror:0.04384\tvalidation_1-merror:0.08511\n",
            "[3]\tvalidation_0-merror:0.03614\tvalidation_1-merror:0.07801\n",
            "[4]\tvalidation_0-merror:0.02903\tvalidation_1-merror:0.07329\n",
            "[5]\tvalidation_0-merror:0.02488\tvalidation_1-merror:0.06856\n",
            "[6]\tvalidation_0-merror:0.02073\tvalidation_1-merror:0.06619\n",
            "[7]\tvalidation_0-merror:0.01422\tvalidation_1-merror:0.05201\n",
            "[8]\tvalidation_0-merror:0.01244\tvalidation_1-merror:0.04965\n",
            "[9]\tvalidation_0-merror:0.01066\tvalidation_1-merror:0.04965\n",
            "[10]\tvalidation_0-merror:0.01007\tvalidation_1-merror:0.04492\n",
            "[11]\tvalidation_0-merror:0.00711\tvalidation_1-merror:0.03783\n",
            "[12]\tvalidation_0-merror:0.00415\tvalidation_1-merror:0.03546\n",
            "[13]\tvalidation_0-merror:0.00178\tvalidation_1-merror:0.03073\n",
            "[14]\tvalidation_0-merror:0.00118\tvalidation_1-merror:0.03073\n",
            "[15]\tvalidation_0-merror:0.00118\tvalidation_1-merror:0.02837\n",
            "[16]\tvalidation_0-merror:0.00118\tvalidation_1-merror:0.02600\n",
            "[17]\tvalidation_0-merror:0.00118\tvalidation_1-merror:0.02600\n",
            "[18]\tvalidation_0-merror:0.00059\tvalidation_1-merror:0.02364\n",
            "[19]\tvalidation_0-merror:0.00059\tvalidation_1-merror:0.02364\n",
            "[20]\tvalidation_0-merror:0.00000\tvalidation_1-merror:0.02364\n",
            "[21]\tvalidation_0-merror:0.00000\tvalidation_1-merror:0.02364\n",
            "[22]\tvalidation_0-merror:0.00000\tvalidation_1-merror:0.02364\n",
            "[23]\tvalidation_0-merror:0.00000\tvalidation_1-merror:0.02364\n",
            "[24]\tvalidation_0-merror:0.00000\tvalidation_1-merror:0.02128\n",
            "[25]\tvalidation_0-merror:0.00000\tvalidation_1-merror:0.02128\n",
            "[26]\tvalidation_0-merror:0.00000\tvalidation_1-merror:0.02128\n",
            "[27]\tvalidation_0-merror:0.00000\tvalidation_1-merror:0.02128\n",
            "[28]\tvalidation_0-merror:0.00000\tvalidation_1-merror:0.02364\n",
            "[29]\tvalidation_0-merror:0.00000\tvalidation_1-merror:0.02364\n",
            "[30]\tvalidation_0-merror:0.00000\tvalidation_1-merror:0.02364\n",
            "[31]\tvalidation_0-merror:0.00000\tvalidation_1-merror:0.02364\n",
            "[32]\tvalidation_0-merror:0.00000\tvalidation_1-merror:0.02364\n",
            "[33]\tvalidation_0-merror:0.00000\tvalidation_1-merror:0.02364\n",
            "[34]\tvalidation_0-merror:0.00000\tvalidation_1-merror:0.02364\n",
            "[35]\tvalidation_0-merror:0.00000\tvalidation_1-merror:0.02364\n",
            "[36]\tvalidation_0-merror:0.00000\tvalidation_1-merror:0.02364\n",
            "[37]\tvalidation_0-merror:0.00000\tvalidation_1-merror:0.02364\n",
            "[38]\tvalidation_0-merror:0.00000\tvalidation_1-merror:0.02364\n",
            "[39]\tvalidation_0-merror:0.00000\tvalidation_1-merror:0.02364\n",
            "[40]\tvalidation_0-merror:0.00000\tvalidation_1-merror:0.02364\n",
            "[41]\tvalidation_0-merror:0.00000\tvalidation_1-merror:0.02128\n",
            "[42]\tvalidation_0-merror:0.00000\tvalidation_1-merror:0.02128\n",
            "[43]\tvalidation_0-merror:0.00000\tvalidation_1-merror:0.02128\n",
            "[44]\tvalidation_0-merror:0.00000\tvalidation_1-merror:0.02128\n",
            "[45]\tvalidation_0-merror:0.00000\tvalidation_1-merror:0.02128\n",
            "[46]\tvalidation_0-merror:0.00000\tvalidation_1-merror:0.02128\n",
            "[47]\tvalidation_0-merror:0.00000\tvalidation_1-merror:0.02128\n",
            "[48]\tvalidation_0-merror:0.00000\tvalidation_1-merror:0.02128\n",
            "[49]\tvalidation_0-merror:0.00000\tvalidation_1-merror:0.02128\n",
            "[50]\tvalidation_0-merror:0.00000\tvalidation_1-merror:0.02128\n",
            "[51]\tvalidation_0-merror:0.00000\tvalidation_1-merror:0.02128\n",
            "[52]\tvalidation_0-merror:0.00000\tvalidation_1-merror:0.02128\n",
            "[53]\tvalidation_0-merror:0.00000\tvalidation_1-merror:0.02128\n",
            "[54]\tvalidation_0-merror:0.00000\tvalidation_1-merror:0.02128\n",
            "[55]\tvalidation_0-merror:0.00000\tvalidation_1-merror:0.02128\n",
            "[56]\tvalidation_0-merror:0.00000\tvalidation_1-merror:0.02128\n",
            "[57]\tvalidation_0-merror:0.00000\tvalidation_1-merror:0.02128\n",
            "[58]\tvalidation_0-merror:0.00000\tvalidation_1-merror:0.02128\n",
            "[59]\tvalidation_0-merror:0.00000\tvalidation_1-merror:0.02128\n",
            "[60]\tvalidation_0-merror:0.00000\tvalidation_1-merror:0.02128\n",
            "[61]\tvalidation_0-merror:0.00000\tvalidation_1-merror:0.02128\n",
            "[62]\tvalidation_0-merror:0.00000\tvalidation_1-merror:0.02128\n",
            "[63]\tvalidation_0-merror:0.00000\tvalidation_1-merror:0.02128\n",
            "[64]\tvalidation_0-merror:0.00000\tvalidation_1-merror:0.02128\n",
            "[65]\tvalidation_0-merror:0.00000\tvalidation_1-merror:0.02128\n",
            "[66]\tvalidation_0-merror:0.00000\tvalidation_1-merror:0.02128\n",
            "[67]\tvalidation_0-merror:0.00000\tvalidation_1-merror:0.02128\n",
            "[68]\tvalidation_0-merror:0.00000\tvalidation_1-merror:0.02128\n",
            "[69]\tvalidation_0-merror:0.00000\tvalidation_1-merror:0.02128\n",
            "[70]\tvalidation_0-merror:0.00000\tvalidation_1-merror:0.01891\n",
            "[71]\tvalidation_0-merror:0.00000\tvalidation_1-merror:0.01891\n",
            "[72]\tvalidation_0-merror:0.00000\tvalidation_1-merror:0.01891\n",
            "[73]\tvalidation_0-merror:0.00000\tvalidation_1-merror:0.01891\n",
            "[74]\tvalidation_0-merror:0.00000\tvalidation_1-merror:0.02128\n",
            "[75]\tvalidation_0-merror:0.00000\tvalidation_1-merror:0.01891\n",
            "[76]\tvalidation_0-merror:0.00000\tvalidation_1-merror:0.01891\n",
            "[77]\tvalidation_0-merror:0.00000\tvalidation_1-merror:0.01655\n",
            "[78]\tvalidation_0-merror:0.00000\tvalidation_1-merror:0.01655\n",
            "[79]\tvalidation_0-merror:0.00000\tvalidation_1-merror:0.01891\n",
            "[80]\tvalidation_0-merror:0.00000\tvalidation_1-merror:0.01891\n",
            "[81]\tvalidation_0-merror:0.00000\tvalidation_1-merror:0.01891\n",
            "[82]\tvalidation_0-merror:0.00000\tvalidation_1-merror:0.01655\n",
            "[83]\tvalidation_0-merror:0.00000\tvalidation_1-merror:0.01655\n",
            "[84]\tvalidation_0-merror:0.00000\tvalidation_1-merror:0.01655\n",
            "[85]\tvalidation_0-merror:0.00000\tvalidation_1-merror:0.01655\n",
            "[86]\tvalidation_0-merror:0.00000\tvalidation_1-merror:0.01655\n",
            "[87]\tvalidation_0-merror:0.00000\tvalidation_1-merror:0.01655\n",
            "[88]\tvalidation_0-merror:0.00000\tvalidation_1-merror:0.01655\n",
            "[89]\tvalidation_0-merror:0.00000\tvalidation_1-merror:0.01655\n",
            "[90]\tvalidation_0-merror:0.00000\tvalidation_1-merror:0.01655\n",
            "[91]\tvalidation_0-merror:0.00000\tvalidation_1-merror:0.01655\n",
            "[92]\tvalidation_0-merror:0.00000\tvalidation_1-merror:0.01655\n",
            "[93]\tvalidation_0-merror:0.00000\tvalidation_1-merror:0.01891\n",
            "[94]\tvalidation_0-merror:0.00000\tvalidation_1-merror:0.01891\n",
            "[95]\tvalidation_0-merror:0.00000\tvalidation_1-merror:0.01655\n",
            "[96]\tvalidation_0-merror:0.00000\tvalidation_1-merror:0.01655\n",
            "[97]\tvalidation_0-merror:0.00000\tvalidation_1-merror:0.01655\n",
            "[98]\tvalidation_0-merror:0.00000\tvalidation_1-merror:0.02128\n",
            "[99]\tvalidation_0-merror:0.00000\tvalidation_1-merror:0.02128\n",
            " Test Accuracy: 97.8723%\n",
            " Train Accuracy: 100.0000%\n"
          ]
        }
      ]
    },
    {
      "cell_type": "markdown",
      "source": [
        "The test accuracy here is really high at 97.8723% so we should look for any overfitting, because this model seems to be great at first glance."
      ],
      "metadata": {
        "id": "n_aqXLjDPjSm"
      }
    },
    {
      "cell_type": "code",
      "source": [
        "results = trial.evals_result()\n",
        "epochs = len(results['validation_0']['merror'])\n",
        "x = range(0, epochs)\n",
        "fig, axis = plt.subplots()\n",
        "axis.plot(x, results['validation_0']['merror'], label='Train')\n",
        "axis.plot(x, results['validation_1']['merror'], label='Test')\n",
        "axis.legend()\n",
        "plt.ylabel('Error')\n",
        "plt.title('XGBoost Classification Error')\n",
        "plt.xlabel('Epochs number')\n",
        "plt.show()"
      ],
      "metadata": {
        "colab": {
          "base_uri": "https://localhost:8080/",
          "height": 472
        },
        "id": "Spx1ZKOIiAV6",
        "outputId": "7c8fbc3e-3709-48fd-91c2-88e6b75874a1"
      },
      "execution_count": 36,
      "outputs": [
        {
          "output_type": "display_data",
          "data": {
            "text/plain": [
              "<Figure size 640x480 with 1 Axes>"
            ],
            "image/png": "[encoded data removed]"
          },
          "metadata": {}
        }
      ]
    },
    {
      "cell_type": "markdown",
      "source": [
        "After plotting the error term for each epoch for both the train and test set as our validation data, we can see that after around 20 epochs the model varies very slightly and doesn't improve the error. Therefore, we created an early stopping model that tries to stop the model after 20 epochs, so no overfitting happens since past 20 epochs the model doesn't improve."
      ],
      "metadata": {
        "id": "nQ0sbCmEauE8"
      }
    },
    {
      "cell_type": "code",
      "source": [
        "early_stopping_rounds = 2 #typically set to 0.1 * (20) which is the epoch we want to stop at\n",
        "earlystopxgb = XGBClassifier(objective='multi:softprob', num_class=7,eval_metric=['merror'],early_stopping_rounds=early_stopping_rounds)\n",
        "earlystopxgb.fit(X_train, y_train, eval_set=[(X_test, y_test)])\n",
        "\n",
        "y_pred = earlystopxgb.predict(X_test)\n",
        "\n",
        "print(\"Test Accuracy:\", accuracy_score(y_test, y_pred))\n",
        "print(\"Test Precision:\", precision_score(y_test, y_pred, average='weighted'))\n",
        "print(\"Test Recall:\", recall_score(y_test, y_pred, average='weighted'))"
      ],
      "metadata": {
        "colab": {
          "base_uri": "https://localhost:8080/"
        },
        "id": "aa5MBdhaFZts",
        "outputId": "bb1bb210-766d-47b2-e96e-0d87c1681b44"
      },
      "execution_count": 37,
      "outputs": [
        {
          "output_type": "stream",
          "name": "stdout",
          "text": [
            "[0]\tvalidation_0-merror:0.12766\n",
            "[1]\tvalidation_0-merror:0.09456\n",
            "[2]\tvalidation_0-merror:0.08511\n",
            "[3]\tvalidation_0-merror:0.07801\n",
            "[4]\tvalidation_0-merror:0.07329\n",
            "[5]\tvalidation_0-merror:0.06856\n",
            "[6]\tvalidation_0-merror:0.06619\n",
            "[7]\tvalidation_0-merror:0.05201\n",
            "[8]\tvalidation_0-merror:0.04965\n",
            "[9]\tvalidation_0-merror:0.04965\n",
            "[10]\tvalidation_0-merror:0.04492\n",
            "[11]\tvalidation_0-merror:0.03783\n",
            "[12]\tvalidation_0-merror:0.03546\n",
            "[13]\tvalidation_0-merror:0.03073\n",
            "[14]\tvalidation_0-merror:0.03073\n",
            "[15]\tvalidation_0-merror:0.02837\n",
            "[16]\tvalidation_0-merror:0.02600\n",
            "[17]\tvalidation_0-merror:0.02600\n",
            "[18]\tvalidation_0-merror:0.02364\n",
            "[19]\tvalidation_0-merror:0.02364\n",
            "[20]\tvalidation_0-merror:0.02364\n",
            "Test Accuracy: 0.9763593380614657\n",
            "Test Precision: 0.9763584370850036\n",
            "Test Recall: 0.9763593380614657\n"
          ]
        }
      ]
    },
    {
      "cell_type": "code",
      "source": [
        "results = earlystopxgb.evals_result()\n",
        "epochs = len(results['validation_0']['merror'])\n",
        "x = range(0,  epochs)\n",
        "fig, axis = plt.subplots()\n",
        "axis.plot(x, results['validation_0']['merror'], label='Test')\n",
        "axis.legend()\n",
        "plt.ylabel('Classification Error')\n",
        "plt.xlabel('Epochs')\n",
        "plt.title('XGBoost Classification Error')\n",
        "plt.show()"
      ],
      "metadata": {
        "colab": {
          "base_uri": "https://localhost:8080/",
          "height": 472
        },
        "id": "QlrqFdMbi6oh",
        "outputId": "ef0e678a-33c1-4a3f-fa78-a3c4514ec720"
      },
      "execution_count": 38,
      "outputs": [
        {
          "output_type": "display_data",
          "data": {
            "text/plain": [
              "<Figure size 640x480 with 1 Axes>"
            ],
            "image/png": "[encoded data removed]"
          },
          "metadata": {}
        }
      ]
    },
    {
      "cell_type": "markdown",
      "source": [
        "Now with the use of early-stopping, the test accuracy is 91.5% which is more reasonable and the validation accuracy was high at 97.16%, while the training accuracy was at 98.4%."
      ],
      "metadata": {
        "id": "Q7ful8VbQtJ0"
      }
    },
    {
      "cell_type": "code",
      "execution_count": 39,
      "metadata": {
        "colab": {
          "base_uri": "https://localhost:8080/"
        },
        "id": "C9xXv2HD_WfJ",
        "outputId": "f0a4f279-6e3b-4a31-a0e4-25c40a3cddfd"
      },
      "outputs": [
        {
          "output_type": "stream",
          "name": "stdout",
          "text": [
            "Current Iteration: 0\n",
            "[0]\tvalidation_0-merror:0.22642\n",
            "[1]\tvalidation_0-merror:0.23585\n",
            "[2]\tvalidation_0-merror:0.22170\n",
            "[3]\tvalidation_0-merror:0.22642\n",
            "[4]\tvalidation_0-merror:0.22642\n",
            "Accuracy for each Fold:  0.7783018867924528\n",
            "Current Iteration: 1\n",
            "[0]\tvalidation_0-merror:0.17536\n",
            "[1]\tvalidation_0-merror:0.16114\n",
            "[2]\tvalidation_0-merror:0.13744\n",
            "[3]\tvalidation_0-merror:0.11848\n",
            "[4]\tvalidation_0-merror:0.12796\n",
            "[5]\tvalidation_0-merror:0.11374\n",
            "[6]\tvalidation_0-merror:0.11374\n",
            "[7]\tvalidation_0-merror:0.10427\n",
            "[8]\tvalidation_0-merror:0.09479\n",
            "[9]\tvalidation_0-merror:0.09005\n",
            "[10]\tvalidation_0-merror:0.08531\n",
            "[11]\tvalidation_0-merror:0.09005\n",
            "[12]\tvalidation_0-merror:0.08531\n",
            "Accuracy for each Fold:  0.9146919431279621\n",
            "Current Iteration: 2\n",
            "[0]\tvalidation_0-merror:0.11848\n",
            "[1]\tvalidation_0-merror:0.06161\n",
            "[2]\tvalidation_0-merror:0.04739\n",
            "[3]\tvalidation_0-merror:0.04265\n",
            "[4]\tvalidation_0-merror:0.04265\n",
            "[5]\tvalidation_0-merror:0.04265\n",
            "Accuracy for each Fold:  0.957345971563981\n",
            "Current Iteration: 3\n",
            "[0]\tvalidation_0-merror:0.06161\n",
            "[1]\tvalidation_0-merror:0.05687\n",
            "[2]\tvalidation_0-merror:0.07109\n",
            "[3]\tvalidation_0-merror:0.08057\n",
            "Accuracy for each Fold:  0.943127962085308\n",
            "Current Iteration: 4\n",
            "[0]\tvalidation_0-merror:0.09479\n",
            "[1]\tvalidation_0-merror:0.05687\n",
            "[2]\tvalidation_0-merror:0.04739\n",
            "[3]\tvalidation_0-merror:0.03791\n",
            "[4]\tvalidation_0-merror:0.03791\n",
            "[5]\tvalidation_0-merror:0.03791\n",
            "Accuracy for each Fold:  0.9620853080568721\n",
            "Current Iteration: 5\n",
            "[0]\tvalidation_0-merror:0.09005\n",
            "[1]\tvalidation_0-merror:0.05687\n",
            "[2]\tvalidation_0-merror:0.06161\n",
            "[3]\tvalidation_0-merror:0.05687\n",
            "Accuracy for each Fold:  0.943127962085308\n",
            "Current Iteration: 6\n",
            "[0]\tvalidation_0-merror:0.07109\n",
            "[1]\tvalidation_0-merror:0.06635\n",
            "[2]\tvalidation_0-merror:0.04739\n",
            "[3]\tvalidation_0-merror:0.04265\n",
            "[4]\tvalidation_0-merror:0.04265\n",
            "Accuracy for each Fold:  0.957345971563981\n",
            "Current Iteration: 7\n",
            "[0]\tvalidation_0-merror:0.09479\n",
            "[1]\tvalidation_0-merror:0.07583\n",
            "[2]\tvalidation_0-merror:0.06635\n",
            "[3]\tvalidation_0-merror:0.06161\n",
            "[4]\tvalidation_0-merror:0.05687\n",
            "[5]\tvalidation_0-merror:0.05213\n",
            "[6]\tvalidation_0-merror:0.03791\n",
            "[7]\tvalidation_0-merror:0.03791\n",
            "[8]\tvalidation_0-merror:0.03791\n",
            "Accuracy for each Fold:  0.9620853080568721\n",
            "Current Iteration: 8\n",
            "[0]\tvalidation_0-merror:0.06635\n",
            "[1]\tvalidation_0-merror:0.02844\n",
            "[2]\tvalidation_0-merror:0.02844\n",
            "[3]\tvalidation_0-merror:0.03791\n",
            "Accuracy for each Fold:  0.9715639810426541\n",
            "Current Iteration: 9\n",
            "[0]\tvalidation_0-merror:0.08531\n",
            "[1]\tvalidation_0-merror:0.07109\n",
            "[2]\tvalidation_0-merror:0.05213\n",
            "[3]\tvalidation_0-merror:0.03791\n",
            "[4]\tvalidation_0-merror:0.03318\n",
            "[5]\tvalidation_0-merror:0.02370\n",
            "[6]\tvalidation_0-merror:0.01422\n",
            "[7]\tvalidation_0-merror:0.01422\n",
            "Accuracy for each Fold:  0.985781990521327\n",
            "Mean accuracy: 0.9375458284896719\n"
          ]
        }
      ],
      "source": [
        "#XGB Cross Validation - https://machinelearningmastery.com/evaluate-gradient-boosting-models-xgboost-python/\n",
        "from sklearn.model_selection import cross_val_score\n",
        "from sklearn.model_selection import StratifiedKFold\n",
        "def train_evaluateXGB(model, xtrain, ytrain, xtest, ytest):\n",
        "  model.fit(xtrain, ytrain, eval_set=[(xtest,ytest)])\n",
        "  accuracy = model.score(xtest, ytest)\n",
        "  return accuracy\n",
        "kFold = StratifiedKFold(n_splits = 10)\n",
        "i=0\n",
        "sum=0\n",
        "for train, test in kFold.split(temp,y_xgb):\n",
        "  print(\"Current Iteration:\",i)\n",
        "  modelxgb = None\n",
        "  modelxgb = earlystopxgb\n",
        "  acc = train_evaluateXGB(modelxgb,temp.loc[[x for x in train]],y_xgb.loc[[x for x in train]],temp.loc[[x for x in test]],y_xgb.loc[[x for x in test]])\n",
        "  print(\"Accuracy for each Fold: \", acc)\n",
        "  i+=1\n",
        "  sum += acc\n",
        "\n",
        "print(\"Mean accuracy:\", (sum/i))\n",
        "#Mean accuracy: 0.9237950460520432"
      ]
    },
    {
      "cell_type": "markdown",
      "source": [
        "Our cross-validation ran well too giving a mean accuracy of 93.8%, but performs not as well in the first fold, but really good on all of the other folds."
      ],
      "metadata": {
        "id": "t41thxlFsJQC"
      }
    },
    {
      "cell_type": "markdown",
      "source": [
        "In Conclusion"
      ],
      "metadata": {
        "id": "Ea8OF5q8ZOK_"
      }
    },
    {
      "cell_type": "code",
      "execution_count": 40,
      "metadata": {
        "id": "n5Pf2LXr_WfJ"
      },
      "outputs": [],
      "source": [
        "import pickle"
      ]
    },
    {
      "cell_type": "code",
      "execution_count": 41,
      "metadata": {
        "id": "tdFswS0Q_WfK"
      },
      "outputs": [],
      "source": [
        "filename = 'xgb_model.sav'\n",
        "pickle.dump(earlystopxgb, open(filename, 'wb'))\n"
      ]
    }
  ],
  "metadata": {
    "kernelspec": {
      "display_name": "base",
      "language": "python",
      "name": "python3"
    },
    "language_info": {
      "codemirror_mode": {
        "name": "ipython",
        "version": 3
      },
      "file_extension": ".py",
      "mimetype": "text/x-python",
      "name": "python",
      "nbconvert_exporter": "python",
      "pygments_lexer": "ipython3",
      "version": "3.11.4"
    },
    "colab": {
      "provenance": []
    }
  },
  "nbformat": 4,
  "nbformat_minor": 0
}