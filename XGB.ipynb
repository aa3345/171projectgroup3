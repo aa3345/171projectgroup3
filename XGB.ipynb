{
 "cells": [
  {
   "cell_type": "code",
   "execution_count": 153,
   "metadata": {},
   "outputs": [],
   "source": [
    "import pandas as pd\n",
    "import numpy as np\n",
    "import matplotlib.pyplot as plt\n",
    "import missingno as msno\n",
    "import matplotlib.pyplot as plt\n",
    "import seaborn as sns\n",
    "import xgboost as xgb\n",
    "from sklearn.model_selection import train_test_split\n",
    "from sklearn.preprocessing import OrdinalEncoder, OneHotEncoder, LabelEncoder\n",
    "from sklearn.metrics import classification_report, confusion_matrix, multilabel_confusion_matrix\n",
    "from sklearn.neural_network import MLPClassifier\n",
    "from sklearn.preprocessing import MinMaxScaler\n",
    "from sklearn.metrics import mean_squared_error, accuracy_score, precision_score, recall_score\n",
    "from sklearn.ensemble import VotingClassifier\n",
    "from sklearn.model_selection import GridSearchCV\n",
    "from xgboost import XGBClassifier\n",
    "from keras.models import Sequential\n",
    "from keras.layers import Dense, Dropout, Activation\n",
    "from keras.optimizers import SGD\n",
    "from keras.utils import plot_model"
   ]
  },
  {
   "cell_type": "code",
   "execution_count": 154,
   "metadata": {},
   "outputs": [],
   "source": [
    "temp = pd.read_csv(\"obesity.csv\")\n",
    "columns = ['Gender', 'family_history_with_overweight', 'FAVC', 'CAEC', 'SMOKE', 'SCC', 'CALC', 'MTRANS']\n",
    "for c in columns:\n",
    "  dummies = pd.get_dummies(temp[c], prefix=(str(c)+\"_\"))\n",
    "  temp = pd.concat([temp, dummies], axis=1)\n",
    "temp = temp.drop(columns=columns)\n",
    "\n",
    "\n",
    "d = ['Insufficient_Weight',\n",
    "       'Normal_Weight', 'Overweight_Level_I', 'Overweight_Level_II', 'Obesity_Type_I',\n",
    "       'Obesity_Type_II', 'Obesity_Type_III']\n",
    "ordinal_encoder = OrdinalEncoder(categories=[d])\n",
    "temp['NObeyesdad'] = ordinal_encoder.fit_transform(temp[['NObeyesdad']])\n",
    "y_xgb = temp['NObeyesdad']\n",
    "\n",
    "temp = temp.drop('NObeyesdad', axis=1)\n",
    "X_train, X_test, y_train, y_test = train_test_split(temp, y_xgb, test_size=0.2)"
   ]
  },
  {
   "cell_type": "code",
   "execution_count": 155,
   "metadata": {},
   "outputs": [
    {
     "name": "stdout",
     "output_type": "stream",
     "text": [
      "0       1.0\n",
      "1       1.0\n",
      "2       1.0\n",
      "3       2.0\n",
      "4       3.0\n",
      "       ... \n",
      "2106    6.0\n",
      "2107    6.0\n",
      "2108    6.0\n",
      "2109    6.0\n",
      "2110    6.0\n",
      "Name: NObeyesdad, Length: 2111, dtype: float64\n"
     ]
    }
   ],
   "source": [
    "print(y_xgb)"
   ]
  },
  {
   "cell_type": "code",
   "execution_count": 156,
   "metadata": {},
   "outputs": [
    {
     "name": "stdout",
     "output_type": "stream",
     "text": [
      "3.000000    1203\n",
      "1.000000     199\n",
      "4.000000      69\n",
      "2.776840       2\n",
      "3.985442       2\n",
      "            ... \n",
      "3.054899       1\n",
      "3.118013       1\n",
      "3.335876       1\n",
      "3.205009       1\n",
      "1.089048       1\n",
      "Name: NCP, Length: 635, dtype: int64\n"
     ]
    }
   ],
   "source": [
    "print(temp['NCP'].value_counts())"
   ]
  },
  {
   "cell_type": "code",
   "execution_count": 157,
   "metadata": {},
   "outputs": [],
   "source": [
    "model = XGBClassifier(objective='multi:softprob')"
   ]
  },
  {
   "cell_type": "code",
   "execution_count": 158,
   "metadata": {},
   "outputs": [
    {
     "data": {
      "text/html": [
       "<style>#sk-container-id-9 {color: black;}#sk-container-id-9 pre{padding: 0;}#sk-container-id-9 div.sk-toggleable {background-color: white;}#sk-container-id-9 label.sk-toggleable__label {cursor: pointer;display: block;width: 100%;margin-bottom: 0;padding: 0.3em;box-sizing: border-box;text-align: center;}#sk-container-id-9 label.sk-toggleable__label-arrow:before {content: \"▸\";float: left;margin-right: 0.25em;color: #696969;}#sk-container-id-9 label.sk-toggleable__label-arrow:hover:before {color: black;}#sk-container-id-9 div.sk-estimator:hover label.sk-toggleable__label-arrow:before {color: black;}#sk-container-id-9 div.sk-toggleable__content {max-height: 0;max-width: 0;overflow: hidden;text-align: left;background-color: #f0f8ff;}#sk-container-id-9 div.sk-toggleable__content pre {margin: 0.2em;color: black;border-radius: 0.25em;background-color: #f0f8ff;}#sk-container-id-9 input.sk-toggleable__control:checked~div.sk-toggleable__content {max-height: 200px;max-width: 100%;overflow: auto;}#sk-container-id-9 input.sk-toggleable__control:checked~label.sk-toggleable__label-arrow:before {content: \"▾\";}#sk-container-id-9 div.sk-estimator input.sk-toggleable__control:checked~label.sk-toggleable__label {background-color: #d4ebff;}#sk-container-id-9 div.sk-label input.sk-toggleable__control:checked~label.sk-toggleable__label {background-color: #d4ebff;}#sk-container-id-9 input.sk-hidden--visually {border: 0;clip: rect(1px 1px 1px 1px);clip: rect(1px, 1px, 1px, 1px);height: 1px;margin: -1px;overflow: hidden;padding: 0;position: absolute;width: 1px;}#sk-container-id-9 div.sk-estimator {font-family: monospace;background-color: #f0f8ff;border: 1px dotted black;border-radius: 0.25em;box-sizing: border-box;margin-bottom: 0.5em;}#sk-container-id-9 div.sk-estimator:hover {background-color: #d4ebff;}#sk-container-id-9 div.sk-parallel-item::after {content: \"\";width: 100%;border-bottom: 1px solid gray;flex-grow: 1;}#sk-container-id-9 div.sk-label:hover label.sk-toggleable__label {background-color: #d4ebff;}#sk-container-id-9 div.sk-serial::before {content: \"\";position: absolute;border-left: 1px solid gray;box-sizing: border-box;top: 0;bottom: 0;left: 50%;z-index: 0;}#sk-container-id-9 div.sk-serial {display: flex;flex-direction: column;align-items: center;background-color: white;padding-right: 0.2em;padding-left: 0.2em;position: relative;}#sk-container-id-9 div.sk-item {position: relative;z-index: 1;}#sk-container-id-9 div.sk-parallel {display: flex;align-items: stretch;justify-content: center;background-color: white;position: relative;}#sk-container-id-9 div.sk-item::before, #sk-container-id-9 div.sk-parallel-item::before {content: \"\";position: absolute;border-left: 1px solid gray;box-sizing: border-box;top: 0;bottom: 0;left: 50%;z-index: -1;}#sk-container-id-9 div.sk-parallel-item {display: flex;flex-direction: column;z-index: 1;position: relative;background-color: white;}#sk-container-id-9 div.sk-parallel-item:first-child::after {align-self: flex-end;width: 50%;}#sk-container-id-9 div.sk-parallel-item:last-child::after {align-self: flex-start;width: 50%;}#sk-container-id-9 div.sk-parallel-item:only-child::after {width: 0;}#sk-container-id-9 div.sk-dashed-wrapped {border: 1px dashed gray;margin: 0 0.4em 0.5em 0.4em;box-sizing: border-box;padding-bottom: 0.4em;background-color: white;}#sk-container-id-9 div.sk-label label {font-family: monospace;font-weight: bold;display: inline-block;line-height: 1.2em;}#sk-container-id-9 div.sk-label-container {text-align: center;}#sk-container-id-9 div.sk-container {/* jupyter's `normalize.less` sets `[hidden] { display: none; }` but bootstrap.min.css set `[hidden] { display: none !important; }` so we also need the `!important` here to be able to override the default hidden behavior on the sphinx rendered scikit-learn.org. See: https://github.com/scikit-learn/scikit-learn/issues/21755 */display: inline-block !important;position: relative;}#sk-container-id-9 div.sk-text-repr-fallback {display: none;}</style><div id=\"sk-container-id-9\" class=\"sk-top-container\"><div class=\"sk-text-repr-fallback\"><pre>XGBClassifier(base_score=None, booster=None, callbacks=None,\n",
       "              colsample_bylevel=None, colsample_bynode=None,\n",
       "              colsample_bytree=None, device=None, early_stopping_rounds=None,\n",
       "              enable_categorical=False, eval_metric=None, feature_types=None,\n",
       "              gamma=None, grow_policy=None, importance_type=None,\n",
       "              interaction_constraints=None, learning_rate=None, max_bin=None,\n",
       "              max_cat_threshold=None, max_cat_to_onehot=None,\n",
       "              max_delta_step=None, max_depth=None, max_leaves=None,\n",
       "              min_child_weight=None, missing=nan, monotone_constraints=None,\n",
       "              multi_strategy=None, n_estimators=None, n_jobs=None,\n",
       "              num_parallel_tree=None, objective=&#x27;multi:softprob&#x27;, ...)</pre><b>In a Jupyter environment, please rerun this cell to show the HTML representation or trust the notebook. <br />On GitHub, the HTML representation is unable to render, please try loading this page with nbviewer.org.</b></div><div class=\"sk-container\" hidden><div class=\"sk-item\"><div class=\"sk-estimator sk-toggleable\"><input class=\"sk-toggleable__control sk-hidden--visually\" id=\"sk-estimator-id-9\" type=\"checkbox\" checked><label for=\"sk-estimator-id-9\" class=\"sk-toggleable__label sk-toggleable__label-arrow\">XGBClassifier</label><div class=\"sk-toggleable__content\"><pre>XGBClassifier(base_score=None, booster=None, callbacks=None,\n",
       "              colsample_bylevel=None, colsample_bynode=None,\n",
       "              colsample_bytree=None, device=None, early_stopping_rounds=None,\n",
       "              enable_categorical=False, eval_metric=None, feature_types=None,\n",
       "              gamma=None, grow_policy=None, importance_type=None,\n",
       "              interaction_constraints=None, learning_rate=None, max_bin=None,\n",
       "              max_cat_threshold=None, max_cat_to_onehot=None,\n",
       "              max_delta_step=None, max_depth=None, max_leaves=None,\n",
       "              min_child_weight=None, missing=nan, monotone_constraints=None,\n",
       "              multi_strategy=None, n_estimators=None, n_jobs=None,\n",
       "              num_parallel_tree=None, objective=&#x27;multi:softprob&#x27;, ...)</pre></div></div></div></div></div>"
      ],
      "text/plain": [
       "XGBClassifier(base_score=None, booster=None, callbacks=None,\n",
       "              colsample_bylevel=None, colsample_bynode=None,\n",
       "              colsample_bytree=None, device=None, early_stopping_rounds=None,\n",
       "              enable_categorical=False, eval_metric=None, feature_types=None,\n",
       "              gamma=None, grow_policy=None, importance_type=None,\n",
       "              interaction_constraints=None, learning_rate=None, max_bin=None,\n",
       "              max_cat_threshold=None, max_cat_to_onehot=None,\n",
       "              max_delta_step=None, max_depth=None, max_leaves=None,\n",
       "              min_child_weight=None, missing=nan, monotone_constraints=None,\n",
       "              multi_strategy=None, n_estimators=None, n_jobs=None,\n",
       "              num_parallel_tree=None, objective='multi:softprob', ...)"
      ]
     },
     "execution_count": 158,
     "metadata": {},
     "output_type": "execute_result"
    }
   ],
   "source": [
    "model.fit(X_train, y_train)"
   ]
  },
  {
   "cell_type": "code",
   "execution_count": 159,
   "metadata": {},
   "outputs": [
    {
     "data": {
      "text/plain": [
       "array([5, 5, 1, 2, 6, 4, 1, 6, 5, 4, 6, 4, 5, 1, 4, 1, 4, 6, 0, 4, 6, 6,\n",
       "       2, 1, 3, 3, 1, 6, 5, 4, 0, 5, 5, 2, 6, 0, 1, 3, 5, 2, 0, 5, 5, 4,\n",
       "       2, 1, 2, 3, 5, 4, 2, 0, 0, 6, 6, 5, 0, 5, 0, 0, 4, 3, 0, 4, 6, 0,\n",
       "       2, 4, 5, 6, 2, 2, 1, 6, 6, 0, 2, 5, 2, 2, 0, 4, 0, 5, 4, 6, 1, 1,\n",
       "       1, 2, 1, 4, 6, 4, 2, 5, 6, 6, 6, 1, 3, 1, 4, 5, 5, 4, 0, 5, 1, 0,\n",
       "       1, 0, 0, 3, 4, 1, 1, 3, 3, 5, 1, 5, 6, 1, 4, 0, 6, 2, 4, 6, 6, 6,\n",
       "       5, 0, 2, 6, 5, 6, 4, 6, 2, 5, 6, 4, 2, 2, 4, 5, 1, 0, 4, 5, 2, 6,\n",
       "       5, 2, 1, 3, 1, 1, 4, 4, 1, 0, 1, 4, 4, 0, 0, 6, 6, 6, 3, 1, 4, 3,\n",
       "       0, 0, 2, 6, 5, 0, 3, 1, 4, 1, 6, 2, 6, 1, 0, 4, 4, 6, 3, 3, 3, 4,\n",
       "       2, 5, 2, 3, 5, 3, 1, 0, 1, 1, 5, 1, 4, 6, 4, 3, 4, 3, 0, 3, 3, 1,\n",
       "       1, 0, 0, 0, 4, 4, 3, 1, 5, 1, 2, 1, 6, 3, 2, 6, 4, 6, 0, 6, 3, 0,\n",
       "       3, 6, 5, 3, 4, 6, 0, 6, 2, 3, 1, 5, 5, 1, 3, 2, 5, 4, 2, 2, 4, 4,\n",
       "       4, 2, 6, 6, 5, 4, 4, 0, 2, 2, 4, 4, 2, 5, 2, 4, 1, 3, 2, 2, 1, 4,\n",
       "       2, 3, 1, 2, 5, 6, 5, 4, 6, 5, 5, 6, 2, 1, 6, 5, 6, 5, 4, 4, 0, 6,\n",
       "       5, 0, 2, 1, 2, 6, 2, 6, 0, 6, 0, 5, 5, 6, 4, 2, 6, 3, 1, 2, 3, 0,\n",
       "       6, 6, 2, 6, 4, 6, 0, 6, 0, 4, 1, 4, 3, 0, 2, 5, 1, 3, 2, 3, 2, 5,\n",
       "       5, 3, 5, 1, 4, 2, 6, 3, 1, 4, 5, 1, 1, 5, 2, 6, 5, 6, 4, 6, 1, 6,\n",
       "       3, 6, 3, 0, 6, 4, 0, 3, 2, 4, 2, 0, 5, 5, 3, 3, 5, 6, 5, 2, 0, 2,\n",
       "       2, 2, 5, 2, 6, 4, 3, 0, 5, 4, 6, 1, 1, 3, 6, 3, 5, 1, 3, 1, 5, 5,\n",
       "       4, 4, 3, 6, 4], dtype=int64)"
      ]
     },
     "execution_count": 159,
     "metadata": {},
     "output_type": "execute_result"
    }
   ],
   "source": [
    "y_pred = model.predict(X_test)\n",
    "y_pred"
   ]
  },
  {
   "cell_type": "code",
   "execution_count": 160,
   "metadata": {},
   "outputs": [
    {
     "name": "stdout",
     "output_type": "stream",
     "text": [
      "[[1.72310865e-05 5.53249174e-06 2.16621083e-05 ... 1.44281279e-04\n",
      "  9.99719083e-01 4.97278379e-05]\n",
      " [4.20253127e-05 3.05604226e-05 8.07557662e-05 ... 6.54488336e-04\n",
      "  9.98797774e-01 1.40098549e-04]\n",
      " [5.32459759e-04 9.97135282e-01 1.42154587e-03 ... 2.79420725e-04\n",
      "  1.22398371e-04 1.58629133e-04]\n",
      " ...\n",
      " [1.05261584e-04 1.41694676e-03 5.01377683e-04 ... 2.03758755e-04\n",
      "  7.15866481e-05 3.45485227e-04]\n",
      " [2.59969620e-05 1.19787082e-05 1.29629952e-05 ... 8.17685577e-05\n",
      "  2.86146242e-04 9.99531388e-01]\n",
      " [3.11004769e-05 1.85960580e-05 4.33594760e-05 ... 9.98718143e-01\n",
      "  1.48747247e-04 4.04362218e-05]]\n"
     ]
    }
   ],
   "source": [
    "y_pred_proba = model.predict_proba(X_test)\n",
    "print(y_pred_proba)"
   ]
  },
  {
   "cell_type": "code",
   "execution_count": 167,
   "metadata": {},
   "outputs": [
    {
     "name": "stdout",
     "output_type": "stream",
     "text": [
      "Accuracy: 97.6359%\n"
     ]
    }
   ],
   "source": [
    "accuracy = model.score(X_test, y_test)\n",
    "print(\"Accuracy: %.4f%%\" % (accuracy * 100.0))"
   ]
  },
  {
   "cell_type": "code",
   "execution_count": 162,
   "metadata": {},
   "outputs": [
    {
     "name": "stdout",
     "output_type": "stream",
     "text": [
      "Current Iteration: 0\n"
     ]
    },
    {
     "name": "stdout",
     "output_type": "stream",
     "text": [
      "Current Iteration: 1\n",
      "Current Iteration: 2\n",
      "Current Iteration: 3\n",
      "Current Iteration: 4\n",
      "Current Iteration: 5\n",
      "Current Iteration: 6\n",
      "Current Iteration: 7\n",
      "Current Iteration: 8\n",
      "Current Iteration: 9\n",
      "Mean accuracy: 0.96499150496289\n"
     ]
    }
   ],
   "source": [
    "#XGB Cross Validation - https://machinelearningmastery.com/evaluate-gradient-boosting-models-xgboost-python/\n",
    "from sklearn.model_selection import cross_val_score\n",
    "from sklearn.model_selection import StratifiedKFold\n",
    "def createXGB():\n",
    "  model = XGBClassifier(objective='multi:softprob', enable_categorical=True)\n",
    "  return model\n",
    "def train_evaluateXGB(model, xtrain, ytrain, xtest, ytest):\n",
    "  model.fit(xtrain, ytrain)\n",
    "  accuracy = model.score(xtest, ytest)\n",
    "  return accuracy\n",
    "kFold = StratifiedKFold(n_splits = 10)\n",
    "i=0\n",
    "sum=0\n",
    "for train, test in kFold.split(temp,y_xgb):\n",
    "  print(\"Current Iteration:\",i)\n",
    "  modelxgb = None\n",
    "  modelxgb = createXGB()\n",
    "\n",
    "  acc = train_evaluateXGB(modelxgb,temp.loc[[x for x in train]],y_xgb.loc[[x for x in train]],temp.loc[[x for x in test]],y_xgb.loc[[x for x in test]])\n",
    "  i+=1\n",
    "  sum += acc\n",
    "\n",
    "print(\"Mean accuracy:\", (sum/i))\n",
    "#Mean accuracy: 0.96499150496289"
   ]
  },
  {
   "cell_type": "code",
   "execution_count": 163,
   "metadata": {},
   "outputs": [],
   "source": [
    "import pickle"
   ]
  },
  {
   "cell_type": "code",
   "execution_count": 164,
   "metadata": {},
   "outputs": [],
   "source": [
    "filename = 'xgb_model.sav'\n",
    "pickle.dump(model, open(filename, 'wb'))\n"
   ]
  },
  {
   "cell_type": "code",
   "execution_count": 165,
   "metadata": {},
   "outputs": [],
   "source": [
    "xgb_model = pickle.load(open('xgb_model.sav', 'rb'))"
   ]
  },
  {
   "cell_type": "code",
   "execution_count": 166,
   "metadata": {},
   "outputs": [
    {
     "name": "stdout",
     "output_type": "stream",
     "text": [
      "^C\n",
      "Note: you may need to restart the kernel to use updated packages.\n"
     ]
    },
    {
     "name": "stdout",
     "output_type": "stream",
     "text": [
      "Requirement already satisfied: xgboost==1.3.3 in c:\\users\\aadhi\\anaconda3\\lib\\site-packages (1.3.3)\n",
      "Requirement already satisfied: numpy in c:\\users\\aadhi\\anaconda3\\lib\\site-packages (from xgboost==1.3.3) (1.24.3)\n",
      "Requirement already satisfied: scipy in c:\\users\\aadhi\\anaconda3\\lib\\site-packages (from xgboost==1.3.3) (1.10.1)\n"
     ]
    }
   ],
   "source": [
    "pip install xgboost==1.3.3"
   ]
  },
  {
   "cell_type": "code",
   "execution_count": null,
   "metadata": {},
   "outputs": [],
   "source": []
  }
 ],
 "metadata": {
  "kernelspec": {
   "display_name": "base",
   "language": "python",
   "name": "python3"
  },
  "language_info": {
   "codemirror_mode": {
    "name": "ipython",
    "version": 3
   },
   "file_extension": ".py",
   "mimetype": "text/x-python",
   "name": "python",
   "nbconvert_exporter": "python",
   "pygments_lexer": "ipython3",
   "version": "3.11.4"
  }
 },
 "nbformat": 4,
 "nbformat_minor": 2
}
