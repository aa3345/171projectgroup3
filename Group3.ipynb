{
  "nbformat": 4,
  "nbformat_minor": 0,
  "metadata": {
    "colab": {
      "provenance": []
    },
    "kernelspec": {
      "name": "python3",
      "display_name": "Python 3"
    },
    "language_info": {
      "name": "python"
    }
  },
  "cells": [
    {
      "cell_type": "code",
      "execution_count": null,
      "metadata": {
        "id": "mtpdD1yUhQbA"
      },
      "outputs": [],
      "source": [
        "import pandas as pd\n",
        "import numpy as np\n",
        "from sklearn.model_selection import train_test_split\n",
        "from sklearn.preprocessing import OrdinalEncoder, OneHotEncoder, LabelEncoder\n",
        "from sklearn.metrics import classification_report, confusion_matrix, multilabel_confusion_matrix\n",
        "from sklearn.neural_network import MLPClassifier\n",
        "from sklearn.preprocessing import MinMaxScaler\n",
        "from sklearn.metrics import mean_squared_error, accuracy_score, precision_score, recall_score"
      ]
    },
    {
      "cell_type": "code",
      "source": [
        "dataset = pd.read_csv(\"obesity.csv\")\n",
        "print(\"Classes:\", dataset['NObeyesdad'].unique())\n",
        "print(dataset.shape)"
      ],
      "metadata": {
        "colab": {
          "base_uri": "https://localhost:8080/"
        },
        "id": "F8cTXoo5Y2Nx",
        "outputId": "75e07dd7-35b0-470a-d066-f470ac81ae31"
      },
      "execution_count": null,
      "outputs": [
        {
          "output_type": "stream",
          "name": "stdout",
          "text": [
            "Classes: ['Normal_Weight' 'Overweight_Level_I' 'Overweight_Level_II'\n",
            " 'Obesity_Type_I' 'Insufficient_Weight' 'Obesity_Type_II'\n",
            " 'Obesity_Type_III']\n",
            "(2111, 17)\n"
          ]
        }
      ]
    },
    {
      "cell_type": "code",
      "source": [
        "X = dataset.drop('NObeyesdad', axis = 1)\n",
        "\n",
        "y = dataset['NObeyesdad']\n",
        "categories = [['Normal_Weight', 'Overweight_Level_I', 'Overweight_Level_II',\n",
        " 'Obesity_Type_I', 'Insufficient_Weight', 'Obesity_Type_II',\n",
        " 'Obesity_Type_III']]\n",
        "encoder = OneHotEncoder(categories=categories, sparse_output=False)\n",
        "y = encoder.fit_transform(y.values.reshape(-1,1))"
      ],
      "metadata": {
        "id": "xNSdm1Esgreo"
      },
      "execution_count": null,
      "outputs": []
    },
    {
      "cell_type": "markdown",
      "source": [
        "Encode each of the categorical variables"
      ],
      "metadata": {
        "id": "uxrN1Ywlu-qz"
      }
    },
    {
      "cell_type": "code",
      "source": [
        "cat = [['no', 'Sometimes', 'Frequently', 'Always']]\n",
        "encoder = OrdinalEncoder(categories=cat)\n",
        "X['CAEC'] = encoder.fit_transform(dataset[['CAEC']])\n",
        "X['CALC'] = encoder.fit_transform(dataset[['CALC']])\n"
      ],
      "metadata": {
        "id": "oldbt2-6q2a6"
      },
      "execution_count": null,
      "outputs": []
    },
    {
      "cell_type": "code",
      "source": [
        "c = [['Automobile', 'Motorbike', 'Bike', 'Public_Transportation', 'Walking']]\n",
        "ord_encoder = OrdinalEncoder(categories=c)\n",
        "X['MTRANS'] = ord_encoder.fit_transform(dataset[['MTRANS']])\n",
        "print(X['MTRANS'])\n"
      ],
      "metadata": {
        "colab": {
          "base_uri": "https://localhost:8080/"
        },
        "id": "LzZQCKA7vDkk",
        "outputId": "57ea9dcd-c04b-49da-8877-4f451b5b11ea"
      },
      "execution_count": null,
      "outputs": [
        {
          "output_type": "stream",
          "name": "stdout",
          "text": [
            "0       3.0\n",
            "1       3.0\n",
            "2       3.0\n",
            "3       4.0\n",
            "4       3.0\n",
            "       ... \n",
            "2106    3.0\n",
            "2107    3.0\n",
            "2108    3.0\n",
            "2109    3.0\n",
            "2110    3.0\n",
            "Name: MTRANS, Length: 2111, dtype: float64\n"
          ]
        }
      ]
    },
    {
      "cell_type": "code",
      "source": [
        "label_encoder = LabelEncoder()\n",
        "X['family_history_with_overweight'] = label_encoder.fit_transform(dataset['family_history_with_overweight'])\n",
        "X['Gender'] = label_encoder.fit_transform(dataset['Gender'])\n",
        "X['FAVC'] = label_encoder.fit_transform(dataset['FAVC'])\n",
        "X['SMOKE'] = label_encoder.fit_transform(dataset['SMOKE'])\n",
        "X['SCC'] = label_encoder.fit_transform(dataset['SCC'])"
      ],
      "metadata": {
        "id": "IzP_gL0dyUd9"
      },
      "execution_count": null,
      "outputs": []
    },
    {
      "cell_type": "code",
      "source": [
        "scaler = MinMaxScaler(feature_range=(0, 1))\n",
        "X_rescaled = scaler.fit_transform(X)\n",
        "X = pd.DataFrame(data = X_rescaled, columns = X.columns)"
      ],
      "metadata": {
        "id": "f-Ox-6NL2yFu"
      },
      "execution_count": null,
      "outputs": []
    },
    {
      "cell_type": "code",
      "source": [
        "data_train, data_test, class_train, class_test = train_test_split(X, y, test_size=0.2)\n",
        "mlp = MLPClassifier(solver = 'sgd', random_state = 42, activation = 'logistic', learning_rate_init = 0.4, batch_size = 100, hidden_layer_sizes = (17, 20), max_iter = 600)"
      ],
      "metadata": {
        "id": "po08d9jL3CbD"
      },
      "execution_count": null,
      "outputs": []
    },
    {
      "cell_type": "code",
      "source": [
        "mlp.fit(data_train, class_train)\n"
      ],
      "metadata": {
        "colab": {
          "base_uri": "https://localhost:8080/",
          "height": 109
        },
        "id": "5WpPcNXF3laY",
        "outputId": "1ca85bac-8245-4622-90bf-24eafea92a21"
      },
      "execution_count": null,
      "outputs": [
        {
          "output_type": "execute_result",
          "data": {
            "text/plain": [
              "MLPClassifier(activation='logistic', batch_size=100,\n",
              "              hidden_layer_sizes=(17, 20), learning_rate_init=0.4, max_iter=600,\n",
              "              random_state=42, solver='sgd')"
            ],
            "text/html": [
              "<style>#sk-container-id-3 {color: black;background-color: white;}#sk-container-id-3 pre{padding: 0;}#sk-container-id-3 div.sk-toggleable {background-color: white;}#sk-container-id-3 label.sk-toggleable__label {cursor: pointer;display: block;width: 100%;margin-bottom: 0;padding: 0.3em;box-sizing: border-box;text-align: center;}#sk-container-id-3 label.sk-toggleable__label-arrow:before {content: \"▸\";float: left;margin-right: 0.25em;color: #696969;}#sk-container-id-3 label.sk-toggleable__label-arrow:hover:before {color: black;}#sk-container-id-3 div.sk-estimator:hover label.sk-toggleable__label-arrow:before {color: black;}#sk-container-id-3 div.sk-toggleable__content {max-height: 0;max-width: 0;overflow: hidden;text-align: left;background-color: #f0f8ff;}#sk-container-id-3 div.sk-toggleable__content pre {margin: 0.2em;color: black;border-radius: 0.25em;background-color: #f0f8ff;}#sk-container-id-3 input.sk-toggleable__control:checked~div.sk-toggleable__content {max-height: 200px;max-width: 100%;overflow: auto;}#sk-container-id-3 input.sk-toggleable__control:checked~label.sk-toggleable__label-arrow:before {content: \"▾\";}#sk-container-id-3 div.sk-estimator input.sk-toggleable__control:checked~label.sk-toggleable__label {background-color: #d4ebff;}#sk-container-id-3 div.sk-label input.sk-toggleable__control:checked~label.sk-toggleable__label {background-color: #d4ebff;}#sk-container-id-3 input.sk-hidden--visually {border: 0;clip: rect(1px 1px 1px 1px);clip: rect(1px, 1px, 1px, 1px);height: 1px;margin: -1px;overflow: hidden;padding: 0;position: absolute;width: 1px;}#sk-container-id-3 div.sk-estimator {font-family: monospace;background-color: #f0f8ff;border: 1px dotted black;border-radius: 0.25em;box-sizing: border-box;margin-bottom: 0.5em;}#sk-container-id-3 div.sk-estimator:hover {background-color: #d4ebff;}#sk-container-id-3 div.sk-parallel-item::after {content: \"\";width: 100%;border-bottom: 1px solid gray;flex-grow: 1;}#sk-container-id-3 div.sk-label:hover label.sk-toggleable__label {background-color: #d4ebff;}#sk-container-id-3 div.sk-serial::before {content: \"\";position: absolute;border-left: 1px solid gray;box-sizing: border-box;top: 0;bottom: 0;left: 50%;z-index: 0;}#sk-container-id-3 div.sk-serial {display: flex;flex-direction: column;align-items: center;background-color: white;padding-right: 0.2em;padding-left: 0.2em;position: relative;}#sk-container-id-3 div.sk-item {position: relative;z-index: 1;}#sk-container-id-3 div.sk-parallel {display: flex;align-items: stretch;justify-content: center;background-color: white;position: relative;}#sk-container-id-3 div.sk-item::before, #sk-container-id-3 div.sk-parallel-item::before {content: \"\";position: absolute;border-left: 1px solid gray;box-sizing: border-box;top: 0;bottom: 0;left: 50%;z-index: -1;}#sk-container-id-3 div.sk-parallel-item {display: flex;flex-direction: column;z-index: 1;position: relative;background-color: white;}#sk-container-id-3 div.sk-parallel-item:first-child::after {align-self: flex-end;width: 50%;}#sk-container-id-3 div.sk-parallel-item:last-child::after {align-self: flex-start;width: 50%;}#sk-container-id-3 div.sk-parallel-item:only-child::after {width: 0;}#sk-container-id-3 div.sk-dashed-wrapped {border: 1px dashed gray;margin: 0 0.4em 0.5em 0.4em;box-sizing: border-box;padding-bottom: 0.4em;background-color: white;}#sk-container-id-3 div.sk-label label {font-family: monospace;font-weight: bold;display: inline-block;line-height: 1.2em;}#sk-container-id-3 div.sk-label-container {text-align: center;}#sk-container-id-3 div.sk-container {/* jupyter's `normalize.less` sets `[hidden] { display: none; }` but bootstrap.min.css set `[hidden] { display: none !important; }` so we also need the `!important` here to be able to override the default hidden behavior on the sphinx rendered scikit-learn.org. See: https://github.com/scikit-learn/scikit-learn/issues/21755 */display: inline-block !important;position: relative;}#sk-container-id-3 div.sk-text-repr-fallback {display: none;}</style><div id=\"sk-container-id-3\" class=\"sk-top-container\"><div class=\"sk-text-repr-fallback\"><pre>MLPClassifier(activation=&#x27;logistic&#x27;, batch_size=100,\n",
              "              hidden_layer_sizes=(17, 20), learning_rate_init=0.4, max_iter=600,\n",
              "              random_state=42, solver=&#x27;sgd&#x27;)</pre><b>In a Jupyter environment, please rerun this cell to show the HTML representation or trust the notebook. <br />On GitHub, the HTML representation is unable to render, please try loading this page with nbviewer.org.</b></div><div class=\"sk-container\" hidden><div class=\"sk-item\"><div class=\"sk-estimator sk-toggleable\"><input class=\"sk-toggleable__control sk-hidden--visually\" id=\"sk-estimator-id-3\" type=\"checkbox\" checked><label for=\"sk-estimator-id-3\" class=\"sk-toggleable__label sk-toggleable__label-arrow\">MLPClassifier</label><div class=\"sk-toggleable__content\"><pre>MLPClassifier(activation=&#x27;logistic&#x27;, batch_size=100,\n",
              "              hidden_layer_sizes=(17, 20), learning_rate_init=0.4, max_iter=600,\n",
              "              random_state=42, solver=&#x27;sgd&#x27;)</pre></div></div></div></div></div>"
            ]
          },
          "metadata": {},
          "execution_count": 85
        }
      ]
    },
    {
      "cell_type": "code",
      "source": [
        "pred = mlp.predict(data_test)"
      ],
      "metadata": {
        "id": "FMG9OMBy3oJt"
      },
      "execution_count": null,
      "outputs": []
    },
    {
      "cell_type": "code",
      "source": [
        "print(\"Accuracy : \", accuracy_score(class_test, pred))\n",
        "print(\"Mean Square Error : \", mean_squared_error(class_test, pred))"
      ],
      "metadata": {
        "colab": {
          "base_uri": "https://localhost:8080/"
        },
        "id": "sgb13CWP3uoZ",
        "outputId": "a2c007a4-8f89-4b20-c8f4-0847eaa114af"
      },
      "execution_count": null,
      "outputs": [
        {
          "output_type": "stream",
          "name": "stdout",
          "text": [
            "Accuracy :  0.9479905437352246\n",
            "Mean Square Error :  0.012833502195204323\n"
          ]
        }
      ]
    },
    {
      "cell_type": "code",
      "source": [
        "print(multilabel_confusion_matrix(class_test, pred))\n",
        "\n",
        "print(\"Classification Report : \")\n",
        "print(classification_report(class_test, pred))"
      ],
      "metadata": {
        "colab": {
          "base_uri": "https://localhost:8080/"
        },
        "id": "fsgaYSnh5ZoP",
        "outputId": "a822366f-291f-4dbe-e406-a23775a4b512"
      },
      "execution_count": null,
      "outputs": [
        {
          "output_type": "stream",
          "name": "stdout",
          "text": [
            "[[[367   3]\n",
            "  [  3  50]]\n",
            "\n",
            " [[353   3]\n",
            "  [  8  59]]\n",
            "\n",
            " [[361   3]\n",
            "  [  5  54]]\n",
            "\n",
            " [[362   3]\n",
            "  [  2  56]]\n",
            "\n",
            " [[365   2]\n",
            "  [  0  56]]\n",
            "\n",
            " [[359   3]\n",
            "  [  2  59]]\n",
            "\n",
            " [[354   0]\n",
            "  [  1  68]]]\n",
            "Classification Report : \n",
            "              precision    recall  f1-score   support\n",
            "\n",
            "           0       0.94      0.94      0.94        53\n",
            "           1       0.95      0.88      0.91        67\n",
            "           2       0.95      0.92      0.93        59\n",
            "           3       0.95      0.97      0.96        58\n",
            "           4       0.97      1.00      0.98        56\n",
            "           5       0.95      0.97      0.96        61\n",
            "           6       1.00      0.99      0.99        69\n",
            "\n",
            "   micro avg       0.96      0.95      0.95       423\n",
            "   macro avg       0.96      0.95      0.95       423\n",
            "weighted avg       0.96      0.95      0.95       423\n",
            " samples avg       0.95      0.95      0.95       423\n",
            "\n"
          ]
        },
        {
          "output_type": "stream",
          "name": "stderr",
          "text": [
            "/usr/local/lib/python3.10/dist-packages/sklearn/metrics/_classification.py:1344: UndefinedMetricWarning: Precision and F-score are ill-defined and being set to 0.0 in samples with no predicted labels. Use `zero_division` parameter to control this behavior.\n",
            "  _warn_prf(average, modifier, msg_start, len(result))\n"
          ]
        }
      ]
    }
  ]
}