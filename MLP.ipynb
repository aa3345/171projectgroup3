{
  "cells": [
    {
      "cell_type": "code",
      "execution_count": 1,
      "metadata": {
        "id": "ByeSwQEEbO0Z"
      },
      "outputs": [],
      "source": [
        "import pandas as pd\n",
        "import numpy as np\n",
        "import matplotlib.pyplot as plt\n",
        "import missingno as msno\n",
        "import matplotlib.pyplot as plt\n",
        "import seaborn as sns\n",
        "import xgboost as xgb\n",
        "from sklearn.model_selection import train_test_split\n",
        "from sklearn.preprocessing import OrdinalEncoder, OneHotEncoder, LabelEncoder\n",
        "from sklearn.metrics import classification_report, confusion_matrix, multilabel_confusion_matrix\n",
        "from sklearn.neural_network import MLPClassifier\n",
        "from sklearn.preprocessing import MinMaxScaler, RobustScaler\n",
        "from sklearn.metrics import mean_squared_error, accuracy_score, precision_score, recall_score\n",
        "from sklearn.model_selection import GridSearchCV\n",
        "import warnings\n",
        "warnings.filterwarnings('ignore')"
      ]
    },
    {
      "cell_type": "code",
      "execution_count": 2,
      "metadata": {
        "colab": {
          "base_uri": "https://localhost:8080/"
        },
        "id": "D7U4Iq8hbO0a",
        "outputId": "92c1c7fd-3e2e-4646-ba48-ea0dbdc60c1a"
      },
      "outputs": [
        {
          "output_type": "stream",
          "name": "stdout",
          "text": [
            "Classes in the dataset: ['Normal_Weight' 'Overweight_Level_I' 'Overweight_Level_II'\n",
            " 'Obesity_Type_I' 'Insufficient_Weight' 'Obesity_Type_II'\n",
            " 'Obesity_Type_III']\n"
          ]
        }
      ],
      "source": [
        "dataset = pd.read_csv(\"obesity.csv\")\n",
        "print(\"Classes in the dataset:\", dataset['NObeyesdad'].unique())"
      ]
    },
    {
      "cell_type": "markdown",
      "source": [
        "One hot encoding + Scaling the Data"
      ],
      "metadata": {
        "id": "fzO8u4jzc7wW"
      }
    },
    {
      "cell_type": "code",
      "execution_count": 3,
      "metadata": {
        "id": "mfbjivlhbO0b"
      },
      "outputs": [],
      "source": [
        "categories = ['Gender', 'family_history_with_overweight', 'FAVC', 'SMOKE', 'SCC', 'CAEC', 'CALC', 'MTRANS', 'NObeyesdad']\n",
        "for c in categories:\n",
        "  dummies = pd.get_dummies(dataset[c], prefix=(str(c)+\"_\"))\n",
        "  dataset = pd.concat([dataset, dummies], axis=1)\n",
        "dataset = dataset.drop(columns=categories)"
      ]
    },
    {
      "cell_type": "code",
      "execution_count": 4,
      "metadata": {
        "id": "45_tOJXtbO0b"
      },
      "outputs": [],
      "source": [
        "d = ['NObeyesdad__Insufficient_Weight',\n",
        "       'NObeyesdad__Normal_Weight', 'NObeyesdad__Obesity_Type_I',\n",
        "       'NObeyesdad__Obesity_Type_II', 'NObeyesdad__Obesity_Type_III',\n",
        "       'NObeyesdad__Overweight_Level_I', 'NObeyesdad__Overweight_Level_II']\n",
        "X = dataset.drop(columns=d)\n",
        "y = dataset[d]"
      ]
    },
    {
      "cell_type": "code",
      "execution_count": 5,
      "metadata": {
        "id": "Qp0n1_zibO0c"
      },
      "outputs": [],
      "source": [
        "scaler = MinMaxScaler(feature_range=(0, 1))\n",
        "X_rescaled = scaler.fit_transform(X)\n",
        "X = pd.DataFrame(data = X_rescaled, columns = X.columns)"
      ]
    },
    {
      "cell_type": "markdown",
      "source": [
        "Split the data and run the model"
      ],
      "metadata": {
        "id": "-AB6XYKDc-4Q"
      }
    },
    {
      "cell_type": "code",
      "execution_count": 40,
      "metadata": {
        "colab": {
          "base_uri": "https://localhost:8080/"
        },
        "id": "ZmcTrzGubO0c",
        "outputId": "04647903-c357-4a15-970c-bb13eb80d3bc"
      },
      "outputs": [
        {
          "output_type": "stream",
          "name": "stdout",
          "text": [
            "(1688, 31)\n",
            "(1688, 7)\n"
          ]
        }
      ],
      "source": [
        "data_train, data_test, class_train, class_test = train_test_split(X, y, test_size=0.2, random_state=15)\n",
        "print(data_train.shape)\n",
        "print(class_train.shape)\n",
        "mlp = MLPClassifier(solver = 'sgd', activation = 'logistic', learning_rate_init = 0.4, batch_size = 100, hidden_layer_sizes = (17, 20), max_iter = 400, random_state=0)"
      ]
    },
    {
      "cell_type": "code",
      "execution_count": 57,
      "metadata": {
        "colab": {
          "base_uri": "https://localhost:8080/",
          "height": 109
        },
        "id": "uX9RxXWmbO0c",
        "outputId": "27f20b2d-361f-4f45-a45e-0f3565fbd948"
      },
      "outputs": [
        {
          "output_type": "execute_result",
          "data": {
            "text/plain": [
              "MLPClassifier(activation='logistic', batch_size=100,\n",
              "              hidden_layer_sizes=(17, 20), learning_rate_init=0.4, max_iter=400,\n",
              "              random_state=0, solver='sgd')"
            ],
            "text/html": [
              "<style>#sk-container-id-10 {color: black;background-color: white;}#sk-container-id-10 pre{padding: 0;}#sk-container-id-10 div.sk-toggleable {background-color: white;}#sk-container-id-10 label.sk-toggleable__label {cursor: pointer;display: block;width: 100%;margin-bottom: 0;padding: 0.3em;box-sizing: border-box;text-align: center;}#sk-container-id-10 label.sk-toggleable__label-arrow:before {content: \"▸\";float: left;margin-right: 0.25em;color: #696969;}#sk-container-id-10 label.sk-toggleable__label-arrow:hover:before {color: black;}#sk-container-id-10 div.sk-estimator:hover label.sk-toggleable__label-arrow:before {color: black;}#sk-container-id-10 div.sk-toggleable__content {max-height: 0;max-width: 0;overflow: hidden;text-align: left;background-color: #f0f8ff;}#sk-container-id-10 div.sk-toggleable__content pre {margin: 0.2em;color: black;border-radius: 0.25em;background-color: #f0f8ff;}#sk-container-id-10 input.sk-toggleable__control:checked~div.sk-toggleable__content {max-height: 200px;max-width: 100%;overflow: auto;}#sk-container-id-10 input.sk-toggleable__control:checked~label.sk-toggleable__label-arrow:before {content: \"▾\";}#sk-container-id-10 div.sk-estimator input.sk-toggleable__control:checked~label.sk-toggleable__label {background-color: #d4ebff;}#sk-container-id-10 div.sk-label input.sk-toggleable__control:checked~label.sk-toggleable__label {background-color: #d4ebff;}#sk-container-id-10 input.sk-hidden--visually {border: 0;clip: rect(1px 1px 1px 1px);clip: rect(1px, 1px, 1px, 1px);height: 1px;margin: -1px;overflow: hidden;padding: 0;position: absolute;width: 1px;}#sk-container-id-10 div.sk-estimator {font-family: monospace;background-color: #f0f8ff;border: 1px dotted black;border-radius: 0.25em;box-sizing: border-box;margin-bottom: 0.5em;}#sk-container-id-10 div.sk-estimator:hover {background-color: #d4ebff;}#sk-container-id-10 div.sk-parallel-item::after {content: \"\";width: 100%;border-bottom: 1px solid gray;flex-grow: 1;}#sk-container-id-10 div.sk-label:hover label.sk-toggleable__label {background-color: #d4ebff;}#sk-container-id-10 div.sk-serial::before {content: \"\";position: absolute;border-left: 1px solid gray;box-sizing: border-box;top: 0;bottom: 0;left: 50%;z-index: 0;}#sk-container-id-10 div.sk-serial {display: flex;flex-direction: column;align-items: center;background-color: white;padding-right: 0.2em;padding-left: 0.2em;position: relative;}#sk-container-id-10 div.sk-item {position: relative;z-index: 1;}#sk-container-id-10 div.sk-parallel {display: flex;align-items: stretch;justify-content: center;background-color: white;position: relative;}#sk-container-id-10 div.sk-item::before, #sk-container-id-10 div.sk-parallel-item::before {content: \"\";position: absolute;border-left: 1px solid gray;box-sizing: border-box;top: 0;bottom: 0;left: 50%;z-index: -1;}#sk-container-id-10 div.sk-parallel-item {display: flex;flex-direction: column;z-index: 1;position: relative;background-color: white;}#sk-container-id-10 div.sk-parallel-item:first-child::after {align-self: flex-end;width: 50%;}#sk-container-id-10 div.sk-parallel-item:last-child::after {align-self: flex-start;width: 50%;}#sk-container-id-10 div.sk-parallel-item:only-child::after {width: 0;}#sk-container-id-10 div.sk-dashed-wrapped {border: 1px dashed gray;margin: 0 0.4em 0.5em 0.4em;box-sizing: border-box;padding-bottom: 0.4em;background-color: white;}#sk-container-id-10 div.sk-label label {font-family: monospace;font-weight: bold;display: inline-block;line-height: 1.2em;}#sk-container-id-10 div.sk-label-container {text-align: center;}#sk-container-id-10 div.sk-container {/* jupyter's `normalize.less` sets `[hidden] { display: none; }` but bootstrap.min.css set `[hidden] { display: none !important; }` so we also need the `!important` here to be able to override the default hidden behavior on the sphinx rendered scikit-learn.org. See: https://github.com/scikit-learn/scikit-learn/issues/21755 */display: inline-block !important;position: relative;}#sk-container-id-10 div.sk-text-repr-fallback {display: none;}</style><div id=\"sk-container-id-10\" class=\"sk-top-container\"><div class=\"sk-text-repr-fallback\"><pre>MLPClassifier(activation=&#x27;logistic&#x27;, batch_size=100,\n",
              "              hidden_layer_sizes=(17, 20), learning_rate_init=0.4, max_iter=400,\n",
              "              random_state=0, solver=&#x27;sgd&#x27;)</pre><b>In a Jupyter environment, please rerun this cell to show the HTML representation or trust the notebook. <br />On GitHub, the HTML representation is unable to render, please try loading this page with nbviewer.org.</b></div><div class=\"sk-container\" hidden><div class=\"sk-item\"><div class=\"sk-estimator sk-toggleable\"><input class=\"sk-toggleable__control sk-hidden--visually\" id=\"sk-estimator-id-18\" type=\"checkbox\" checked><label for=\"sk-estimator-id-18\" class=\"sk-toggleable__label sk-toggleable__label-arrow\">MLPClassifier</label><div class=\"sk-toggleable__content\"><pre>MLPClassifier(activation=&#x27;logistic&#x27;, batch_size=100,\n",
              "              hidden_layer_sizes=(17, 20), learning_rate_init=0.4, max_iter=400,\n",
              "              random_state=0, solver=&#x27;sgd&#x27;)</pre></div></div></div></div></div>"
            ]
          },
          "metadata": {},
          "execution_count": 57
        }
      ],
      "source": [
        "mlp.fit(data_train, class_train)"
      ]
    },
    {
      "cell_type": "code",
      "execution_count": 58,
      "metadata": {
        "id": "LKFB0PCybO0c"
      },
      "outputs": [],
      "source": [
        "pred = mlp.predict(data_test)"
      ]
    },
    {
      "cell_type": "code",
      "execution_count": 59,
      "metadata": {
        "colab": {
          "base_uri": "https://localhost:8080/"
        },
        "id": "HA-QszDGbO0d",
        "outputId": "15aa2240-a817-4ec5-bd8e-7d9d8ba67dd0"
      },
      "outputs": [
        {
          "output_type": "stream",
          "name": "stdout",
          "text": [
            "Testing Accuracy :  0.9243498817966903\n",
            "Testing Mean Square Error :  0.019250253292806486\n"
          ]
        }
      ],
      "source": [
        "print(\"Testing Accuracy : \", accuracy_score(class_test, pred))\n",
        "print(\"Testing Mean Square Error : \", mean_squared_error(class_test, pred))"
      ]
    },
    {
      "cell_type": "code",
      "source": [
        "train_pred = mlp.predict(data_train)\n",
        "print(\"Training Accuracy : \",accuracy_score(train_pred, class_train))\n",
        "print(\"Training Mean Square Error : \", mean_squared_error(class_train, train_pred))"
      ],
      "metadata": {
        "colab": {
          "base_uri": "https://localhost:8080/"
        },
        "id": "F4gJy1jGEzKI",
        "outputId": "98eb486f-2d64-4741-91c8-189bcc015cc6"
      },
      "execution_count": 44,
      "outputs": [
        {
          "output_type": "stream",
          "name": "stdout",
          "text": [
            "Training Accuracy :  0.9940758293838863\n",
            "Training Mean Square Error :  0.0014387271496276233\n"
          ]
        }
      ]
    },
    {
      "cell_type": "markdown",
      "source": [
        "The testing accuracy is around the training accuracy and the difference is around 0.07 which is sizeable but needs further testing to claim overfitting. The testing MSE is also only 0.02 larger than the training MSE, so this model is good in that regard. From what we have so far, there may not be overfitting, but let's check using Cross Validation and regularization techniques to find an improvement."
      ],
      "metadata": {
        "id": "0oiTWPPzGQJl"
      }
    },
    {
      "cell_type": "code",
      "execution_count": 45,
      "metadata": {
        "colab": {
          "base_uri": "https://localhost:8080/"
        },
        "id": "HgHm2mL5bO0d",
        "outputId": "c89eb065-20d3-40af-a92d-d757a57443b0"
      },
      "outputs": [
        {
          "output_type": "stream",
          "name": "stdout",
          "text": [
            "[[[372   3]\n",
            "  [  1  47]]\n",
            "\n",
            " [[367   1]\n",
            "  [ 10  45]]\n",
            "\n",
            " [[353   3]\n",
            "  [  4  63]]\n",
            "\n",
            " [[364   0]\n",
            "  [  2  57]]\n",
            "\n",
            " [[365   1]\n",
            "  [  0  57]]\n",
            "\n",
            " [[351   8]\n",
            "  [  7  57]]\n",
            "\n",
            " [[339  11]\n",
            "  [  6  67]]]\n",
            "Classification Report : \n",
            "              precision    recall  f1-score   support\n",
            "\n",
            "           0       0.94      0.98      0.96        48\n",
            "           1       0.98      0.82      0.89        55\n",
            "           2       0.95      0.94      0.95        67\n",
            "           3       1.00      0.97      0.98        59\n",
            "           4       0.98      1.00      0.99        57\n",
            "           5       0.88      0.89      0.88        64\n",
            "           6       0.86      0.92      0.89        73\n",
            "\n",
            "   micro avg       0.94      0.93      0.93       423\n",
            "   macro avg       0.94      0.93      0.93       423\n",
            "weighted avg       0.94      0.93      0.93       423\n",
            " samples avg       0.93      0.93      0.93       423\n",
            "\n"
          ]
        }
      ],
      "source": [
        "print(multilabel_confusion_matrix(class_test, pred))\n",
        "\n",
        "print(\"Classification Report : \")\n",
        "print(classification_report(class_test, pred))"
      ]
    },
    {
      "cell_type": "markdown",
      "metadata": {
        "id": "Fi-gC2B7bO0e"
      },
      "source": [
        "Cross Validation"
      ]
    },
    {
      "cell_type": "code",
      "execution_count": 46,
      "metadata": {
        "colab": {
          "base_uri": "https://localhost:8080/"
        },
        "id": "-WSR-rslbO0f",
        "outputId": "3d39f9aa-0b0e-44af-c0e1-4ce054bf426c"
      },
      "outputs": [
        {
          "output_type": "stream",
          "name": "stdout",
          "text": [
            "Accuracy\n",
            "[0.73113208 0.73459716 0.8957346  0.96208531 0.87203791 0.95734597\n",
            " 0.97156398 0.99526066 1.         1.        ]\n",
            "MSE\n",
            "[0.07210243 0.07109005 0.02979012 0.00947867 0.0338524  0.01083277\n",
            " 0.00812458 0.0013541  0.         0.        ]\n",
            "Average Accuracy =  0.9119757667888759\n",
            "Average MSE =  0.023662510698636962\n"
          ]
        }
      ],
      "source": [
        "from sklearn.model_selection import cross_validate\n",
        "mlpCV = cross_validate(mlp, X, y, cv=10, scoring=['accuracy', 'neg_mean_squared_error'])\n",
        "#print all the accuracy values from each iteration\n",
        "print('Accuracy')\n",
        "print(mlpCV['test_accuracy'])\n",
        "#print all the MSE values from each iteration\n",
        "print('MSE')\n",
        "print(-1*mlpCV['test_neg_mean_squared_error'])\n",
        "print('Average Accuracy = ',  sum(mlpCV['test_accuracy'])/len(mlpCV['test_accuracy']))\n",
        "print('Average MSE = ', sum(-1 * mlpCV['test_neg_mean_squared_error']) / len(mlpCV['test_neg_mean_squared_error']))"
      ]
    },
    {
      "cell_type": "markdown",
      "source": [
        "For some folds the accuracy is lower at 73.1% and 73.4% so there is still room to improve this model, but since it performs well in 8 of the 10 folds, it is still a valuable model.\n"
      ],
      "metadata": {
        "id": "wTyc3H0CGzgc"
      }
    },
    {
      "cell_type": "markdown",
      "source": [
        "Hyperparameter Tuning"
      ],
      "metadata": {
        "id": "NXeuwxBedDQv"
      }
    },
    {
      "cell_type": "code",
      "execution_count": 52,
      "metadata": {
        "colab": {
          "base_uri": "https://localhost:8080/",
          "height": 118
        },
        "id": "eE_QmsL3bO0g",
        "outputId": "32462426-edeb-47da-d8de-7418bd9384f2"
      },
      "outputs": [
        {
          "output_type": "execute_result",
          "data": {
            "text/plain": [
              "GridSearchCV(estimator=MLPClassifier(activation='logistic', batch_size=100,\n",
              "                                     hidden_layer_sizes=(17, 20),\n",
              "                                     learning_rate_init=0.4, max_iter=400,\n",
              "                                     random_state=0, solver='sgd'),\n",
              "             param_grid={'activation': ['logistic', 'relu', 'tanh'],\n",
              "                         'hidden_layer_sizes': [(17, 20), (13, 15), (20, 24)],\n",
              "                         'learning_rate_init': [0.3, 0.4, 0.5],\n",
              "                         'max_iter': [500, 400, 600]},\n",
              "             scoring='accuracy')"
            ],
            "text/html": [
              "<style>#sk-container-id-9 {color: black;background-color: white;}#sk-container-id-9 pre{padding: 0;}#sk-container-id-9 div.sk-toggleable {background-color: white;}#sk-container-id-9 label.sk-toggleable__label {cursor: pointer;display: block;width: 100%;margin-bottom: 0;padding: 0.3em;box-sizing: border-box;text-align: center;}#sk-container-id-9 label.sk-toggleable__label-arrow:before {content: \"▸\";float: left;margin-right: 0.25em;color: #696969;}#sk-container-id-9 label.sk-toggleable__label-arrow:hover:before {color: black;}#sk-container-id-9 div.sk-estimator:hover label.sk-toggleable__label-arrow:before {color: black;}#sk-container-id-9 div.sk-toggleable__content {max-height: 0;max-width: 0;overflow: hidden;text-align: left;background-color: #f0f8ff;}#sk-container-id-9 div.sk-toggleable__content pre {margin: 0.2em;color: black;border-radius: 0.25em;background-color: #f0f8ff;}#sk-container-id-9 input.sk-toggleable__control:checked~div.sk-toggleable__content {max-height: 200px;max-width: 100%;overflow: auto;}#sk-container-id-9 input.sk-toggleable__control:checked~label.sk-toggleable__label-arrow:before {content: \"▾\";}#sk-container-id-9 div.sk-estimator input.sk-toggleable__control:checked~label.sk-toggleable__label {background-color: #d4ebff;}#sk-container-id-9 div.sk-label input.sk-toggleable__control:checked~label.sk-toggleable__label {background-color: #d4ebff;}#sk-container-id-9 input.sk-hidden--visually {border: 0;clip: rect(1px 1px 1px 1px);clip: rect(1px, 1px, 1px, 1px);height: 1px;margin: -1px;overflow: hidden;padding: 0;position: absolute;width: 1px;}#sk-container-id-9 div.sk-estimator {font-family: monospace;background-color: #f0f8ff;border: 1px dotted black;border-radius: 0.25em;box-sizing: border-box;margin-bottom: 0.5em;}#sk-container-id-9 div.sk-estimator:hover {background-color: #d4ebff;}#sk-container-id-9 div.sk-parallel-item::after {content: \"\";width: 100%;border-bottom: 1px solid gray;flex-grow: 1;}#sk-container-id-9 div.sk-label:hover label.sk-toggleable__label {background-color: #d4ebff;}#sk-container-id-9 div.sk-serial::before {content: \"\";position: absolute;border-left: 1px solid gray;box-sizing: border-box;top: 0;bottom: 0;left: 50%;z-index: 0;}#sk-container-id-9 div.sk-serial {display: flex;flex-direction: column;align-items: center;background-color: white;padding-right: 0.2em;padding-left: 0.2em;position: relative;}#sk-container-id-9 div.sk-item {position: relative;z-index: 1;}#sk-container-id-9 div.sk-parallel {display: flex;align-items: stretch;justify-content: center;background-color: white;position: relative;}#sk-container-id-9 div.sk-item::before, #sk-container-id-9 div.sk-parallel-item::before {content: \"\";position: absolute;border-left: 1px solid gray;box-sizing: border-box;top: 0;bottom: 0;left: 50%;z-index: -1;}#sk-container-id-9 div.sk-parallel-item {display: flex;flex-direction: column;z-index: 1;position: relative;background-color: white;}#sk-container-id-9 div.sk-parallel-item:first-child::after {align-self: flex-end;width: 50%;}#sk-container-id-9 div.sk-parallel-item:last-child::after {align-self: flex-start;width: 50%;}#sk-container-id-9 div.sk-parallel-item:only-child::after {width: 0;}#sk-container-id-9 div.sk-dashed-wrapped {border: 1px dashed gray;margin: 0 0.4em 0.5em 0.4em;box-sizing: border-box;padding-bottom: 0.4em;background-color: white;}#sk-container-id-9 div.sk-label label {font-family: monospace;font-weight: bold;display: inline-block;line-height: 1.2em;}#sk-container-id-9 div.sk-label-container {text-align: center;}#sk-container-id-9 div.sk-container {/* jupyter's `normalize.less` sets `[hidden] { display: none; }` but bootstrap.min.css set `[hidden] { display: none !important; }` so we also need the `!important` here to be able to override the default hidden behavior on the sphinx rendered scikit-learn.org. See: https://github.com/scikit-learn/scikit-learn/issues/21755 */display: inline-block !important;position: relative;}#sk-container-id-9 div.sk-text-repr-fallback {display: none;}</style><div id=\"sk-container-id-9\" class=\"sk-top-container\"><div class=\"sk-text-repr-fallback\"><pre>GridSearchCV(estimator=MLPClassifier(activation=&#x27;logistic&#x27;, batch_size=100,\n",
              "                                     hidden_layer_sizes=(17, 20),\n",
              "                                     learning_rate_init=0.4, max_iter=400,\n",
              "                                     random_state=0, solver=&#x27;sgd&#x27;),\n",
              "             param_grid={&#x27;activation&#x27;: [&#x27;logistic&#x27;, &#x27;relu&#x27;, &#x27;tanh&#x27;],\n",
              "                         &#x27;hidden_layer_sizes&#x27;: [(17, 20), (13, 15), (20, 24)],\n",
              "                         &#x27;learning_rate_init&#x27;: [0.3, 0.4, 0.5],\n",
              "                         &#x27;max_iter&#x27;: [500, 400, 600]},\n",
              "             scoring=&#x27;accuracy&#x27;)</pre><b>In a Jupyter environment, please rerun this cell to show the HTML representation or trust the notebook. <br />On GitHub, the HTML representation is unable to render, please try loading this page with nbviewer.org.</b></div><div class=\"sk-container\" hidden><div class=\"sk-item sk-dashed-wrapped\"><div class=\"sk-label-container\"><div class=\"sk-label sk-toggleable\"><input class=\"sk-toggleable__control sk-hidden--visually\" id=\"sk-estimator-id-15\" type=\"checkbox\" ><label for=\"sk-estimator-id-15\" class=\"sk-toggleable__label sk-toggleable__label-arrow\">GridSearchCV</label><div class=\"sk-toggleable__content\"><pre>GridSearchCV(estimator=MLPClassifier(activation=&#x27;logistic&#x27;, batch_size=100,\n",
              "                                     hidden_layer_sizes=(17, 20),\n",
              "                                     learning_rate_init=0.4, max_iter=400,\n",
              "                                     random_state=0, solver=&#x27;sgd&#x27;),\n",
              "             param_grid={&#x27;activation&#x27;: [&#x27;logistic&#x27;, &#x27;relu&#x27;, &#x27;tanh&#x27;],\n",
              "                         &#x27;hidden_layer_sizes&#x27;: [(17, 20), (13, 15), (20, 24)],\n",
              "                         &#x27;learning_rate_init&#x27;: [0.3, 0.4, 0.5],\n",
              "                         &#x27;max_iter&#x27;: [500, 400, 600]},\n",
              "             scoring=&#x27;accuracy&#x27;)</pre></div></div></div><div class=\"sk-parallel\"><div class=\"sk-parallel-item\"><div class=\"sk-item\"><div class=\"sk-label-container\"><div class=\"sk-label sk-toggleable\"><input class=\"sk-toggleable__control sk-hidden--visually\" id=\"sk-estimator-id-16\" type=\"checkbox\" ><label for=\"sk-estimator-id-16\" class=\"sk-toggleable__label sk-toggleable__label-arrow\">estimator: MLPClassifier</label><div class=\"sk-toggleable__content\"><pre>MLPClassifier(activation=&#x27;logistic&#x27;, batch_size=100,\n",
              "              hidden_layer_sizes=(17, 20), learning_rate_init=0.4, max_iter=400,\n",
              "              random_state=0, solver=&#x27;sgd&#x27;)</pre></div></div></div><div class=\"sk-serial\"><div class=\"sk-item\"><div class=\"sk-estimator sk-toggleable\"><input class=\"sk-toggleable__control sk-hidden--visually\" id=\"sk-estimator-id-17\" type=\"checkbox\" ><label for=\"sk-estimator-id-17\" class=\"sk-toggleable__label sk-toggleable__label-arrow\">MLPClassifier</label><div class=\"sk-toggleable__content\"><pre>MLPClassifier(activation=&#x27;logistic&#x27;, batch_size=100,\n",
              "              hidden_layer_sizes=(17, 20), learning_rate_init=0.4, max_iter=400,\n",
              "              random_state=0, solver=&#x27;sgd&#x27;)</pre></div></div></div></div></div></div></div></div></div></div>"
            ]
          },
          "metadata": {},
          "execution_count": 52
        }
      ],
      "source": [
        "#MLP hyperparameter tuning\n",
        "\n",
        "#logic from hw3demo\n",
        "#set up parameters\n",
        "max_iterations = [500,400,600]\n",
        "hidden_layer_size = [(17, 20), (13, 15), (20, 24)]\n",
        "activations = [\"logistic\", \"relu\", \"tanh\"]\n",
        "learning_rate_inits = [0.3,0.4,0.5]\n",
        "params = dict(activation = activations, hidden_layer_sizes = hidden_layer_size, max_iter = max_iterations, learning_rate_init = learning_rate_inits)\n",
        "grid = GridSearchCV(estimator = mlp, param_grid=params, scoring=\"accuracy\")\n",
        "grid.fit(X, y)"
      ]
    },
    {
      "cell_type": "code",
      "execution_count": 53,
      "metadata": {
        "colab": {
          "base_uri": "https://localhost:8080/"
        },
        "id": "cICbGGelbO0g",
        "outputId": "b7168db0-d92c-42f1-cd4a-999426c3bbe3"
      },
      "outputs": [
        {
          "output_type": "stream",
          "name": "stdout",
          "text": [
            "Optimal Hyper-Parameters: {'activation': 'logistic', 'hidden_layer_sizes': (20, 24), 'learning_rate_init': 0.3, 'max_iter': 500}\n",
            "Optimal Accuracy: 0.8490022744333524\n"
          ]
        }
      ],
      "source": [
        "#results\n",
        "print(\"Optimal Hyper-Parameters:\", grid.best_params_)\n",
        "print(\"Optimal Accuracy:\", grid.best_score_)"
      ]
    },
    {
      "cell_type": "code",
      "execution_count": 54,
      "metadata": {
        "colab": {
          "base_uri": "https://localhost:8080/"
        },
        "id": "tmy9L8XNbO0h",
        "outputId": "46125ff9-c39c-475e-f1fc-9173ad4f0fa8"
      },
      "outputs": [
        {
          "output_type": "stream",
          "name": "stdout",
          "text": [
            "Accuracy :  0.933806146572104\n",
            "Mean Square Error :  0.016210739614994935\n"
          ]
        }
      ],
      "source": [
        "#make optimal MLP\n",
        "optimalMLP = MLPClassifier(solver = 'sgd', activation = 'logistic', learning_rate_init = 0.3, batch_size = 100, hidden_layer_sizes = (20, 24), max_iter = 500, random_state=0)\n",
        "#fit and predict\n",
        "optimalMLP.fit(data_train, class_train)\n",
        "pred = optimalMLP.predict(data_test)\n",
        "#results\n",
        "print(\"Accuracy : \", accuracy_score(class_test, pred))\n",
        "print(\"Mean Square Error : \", mean_squared_error(class_test, pred))"
      ]
    },
    {
      "cell_type": "markdown",
      "source": [
        "After tuning the accuracy and mean squared error both improved."
      ],
      "metadata": {
        "id": "kIpbO4l_8XlZ"
      }
    },
    {
      "cell_type": "code",
      "execution_count": 62,
      "metadata": {
        "colab": {
          "base_uri": "https://localhost:8080/"
        },
        "id": "o9y_hCkgbO0h",
        "outputId": "1dbb7e97-d59c-442c-e5a7-b434603339b6"
      },
      "outputs": [
        {
          "output_type": "stream",
          "name": "stdout",
          "text": [
            "[[[372   3]\n",
            "  [  1  47]]\n",
            "\n",
            " [[367   1]\n",
            "  [ 10  45]]\n",
            "\n",
            " [[353   3]\n",
            "  [  4  63]]\n",
            "\n",
            " [[364   0]\n",
            "  [  2  57]]\n",
            "\n",
            " [[365   1]\n",
            "  [  0  57]]\n",
            "\n",
            " [[351   8]\n",
            "  [  7  57]]\n",
            "\n",
            " [[339  11]\n",
            "  [  6  67]]]\n",
            "Classification Report : \n",
            "              precision    recall  f1-score   support\n",
            "\n",
            "           0       0.94      0.98      0.96        48\n",
            "           1       0.98      0.82      0.89        55\n",
            "           2       0.95      0.94      0.95        67\n",
            "           3       1.00      0.97      0.98        59\n",
            "           4       0.98      1.00      0.99        57\n",
            "           5       0.88      0.89      0.88        64\n",
            "           6       0.86      0.92      0.89        73\n",
            "\n",
            "   micro avg       0.94      0.93      0.93       423\n",
            "   macro avg       0.94      0.93      0.93       423\n",
            "weighted avg       0.94      0.93      0.93       423\n",
            " samples avg       0.93      0.93      0.93       423\n",
            "\n"
          ]
        }
      ],
      "source": [
        "#MORE results\n",
        "print(multilabel_confusion_matrix(class_test, pred))\n",
        "\n",
        "print(\"Classification Report : \")\n",
        "print(classification_report(class_test, pred))"
      ]
    },
    {
      "cell_type": "code",
      "execution_count": 61,
      "metadata": {
        "colab": {
          "base_uri": "https://localhost:8080/"
        },
        "id": "MAibCpAxbO0i",
        "outputId": "3a62a594-565b-4b72-a319-93b11d02b5c3"
      },
      "outputs": [
        {
          "output_type": "stream",
          "name": "stdout",
          "text": [
            "Accuracy\n",
            "[0.70283019 0.79620853 0.9478673  0.96682464 0.95734597 0.83412322\n",
            " 0.96682464 0.98578199 1.         1.        ]\n",
            "MSE\n",
            "[0.07681941 0.05484089 0.01354096 0.00609343 0.01150982 0.04333108\n",
            " 0.00812458 0.00406229 0.         0.        ]\n",
            "Average Accuracy =  0.915780649199678\n",
            "Average MSE =  0.021832245372440315\n"
          ]
        }
      ],
      "source": [
        "#Cross Validation for Optimized MLP\n",
        "optimal_CV = cross_validate(optimalMLP, X, y, cv=10, scoring=['accuracy', 'neg_mean_squared_error'])\n",
        "#print all the accuracy values from each iteration\n",
        "print('Accuracy')\n",
        "print(optimal_CV['test_accuracy'])\n",
        "#print all the MSE values from each iteration\n",
        "print('MSE')\n",
        "print(-1*optimal_CV['test_neg_mean_squared_error'])\n",
        "\n",
        "print('Average Accuracy = ', sum(optimal_CV['test_accuracy']) / len(optimal_CV['test_accuracy']))\n",
        "print('Average MSE = ', sum(-1 * optimal_CV['test_neg_mean_squared_error']) / len(optimal_CV['test_neg_mean_squared_error']))"
      ]
    },
    {
      "cell_type": "markdown",
      "source": [
        "After tuning, the new model gives out a good CV accuracy at 91.6% but since the cross-validation for 2 of the folds are very low, we should look into different types of models like a DNN."
      ],
      "metadata": {
        "id": "JRFeUbpY8OXW"
      }
    }
  ],
  "metadata": {
    "kernelspec": {
      "display_name": "Python 3",
      "name": "python3"
    },
    "language_info": {
      "codemirror_mode": {
        "name": "ipython",
        "version": 3
      },
      "file_extension": ".py",
      "mimetype": "text/x-python",
      "name": "python",
      "nbconvert_exporter": "python",
      "pygments_lexer": "ipython3",
      "version": "3.11.4"
    },
    "colab": {
      "provenance": []
    }
  },
  "nbformat": 4,
  "nbformat_minor": 0
}