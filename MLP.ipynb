{
  "cells": [
    {
      "cell_type": "code",
      "execution_count": 1,
      "metadata": {
        "id": "ByeSwQEEbO0Z"
      },
      "outputs": [],
      "source": [
        "import pandas as pd\n",
        "import numpy as np\n",
        "import matplotlib.pyplot as plt\n",
        "import missingno as msno\n",
        "import matplotlib.pyplot as plt\n",
        "import seaborn as sns\n",
        "import xgboost as xgb\n",
        "from sklearn.model_selection import train_test_split\n",
        "from sklearn.preprocessing import OrdinalEncoder, OneHotEncoder, LabelEncoder\n",
        "from sklearn.metrics import classification_report, confusion_matrix, multilabel_confusion_matrix\n",
        "from sklearn.neural_network import MLPClassifier\n",
        "from sklearn.preprocessing import MinMaxScaler\n",
        "from sklearn.metrics import mean_squared_error, accuracy_score, precision_score, recall_score\n",
        "from sklearn.model_selection import GridSearchCV\n",
        "import warnings\n",
        "warnings.filterwarnings('ignore')"
      ]
    },
    {
      "cell_type": "code",
      "execution_count": 2,
      "metadata": {
        "colab": {
          "base_uri": "https://localhost:8080/"
        },
        "id": "D7U4Iq8hbO0a",
        "outputId": "1ef7510e-a637-4dde-e42c-91765b536201"
      },
      "outputs": [
        {
          "output_type": "stream",
          "name": "stdout",
          "text": [
            "Classes in the dataset: ['Normal_Weight' 'Overweight_Level_I' 'Overweight_Level_II'\n",
            " 'Obesity_Type_I' 'Insufficient_Weight' 'Obesity_Type_II'\n",
            " 'Obesity_Type_III']\n"
          ]
        }
      ],
      "source": [
        "dataset = pd.read_csv(\"obesity.csv\")\n",
        "print(\"Classes in the dataset:\", dataset['NObeyesdad'].unique())"
      ]
    },
    {
      "cell_type": "markdown",
      "source": [
        "One hot encoding"
      ],
      "metadata": {
        "id": "fzO8u4jzc7wW"
      }
    },
    {
      "cell_type": "code",
      "execution_count": 3,
      "metadata": {
        "id": "mfbjivlhbO0b"
      },
      "outputs": [],
      "source": [
        "categories = ['Gender', 'family_history_with_overweight', 'FAVC', 'SMOKE', 'SCC', 'CAEC', 'CALC', 'MTRANS', 'NObeyesdad']\n",
        "for c in categories:\n",
        "  dummies = pd.get_dummies(dataset[c], prefix=(str(c)+\"_\"))\n",
        "  dataset = pd.concat([dataset, dummies], axis=1)\n",
        "dataset = dataset.drop(columns=categories)"
      ]
    },
    {
      "cell_type": "code",
      "execution_count": 4,
      "metadata": {
        "colab": {
          "base_uri": "https://localhost:8080/"
        },
        "id": "45_tOJXtbO0b",
        "outputId": "b3a31bff-edde-444a-ab7b-7376d9b0daf4"
      },
      "outputs": [
        {
          "output_type": "stream",
          "name": "stdout",
          "text": [
            "Index(['NObeyesdad__Insufficient_Weight', 'NObeyesdad__Normal_Weight',\n",
            "       'NObeyesdad__Obesity_Type_I', 'NObeyesdad__Obesity_Type_II',\n",
            "       'NObeyesdad__Obesity_Type_III', 'NObeyesdad__Overweight_Level_I',\n",
            "       'NObeyesdad__Overweight_Level_II'],\n",
            "      dtype='object')\n"
          ]
        }
      ],
      "source": [
        "d = ['NObeyesdad__Insufficient_Weight',\n",
        "       'NObeyesdad__Normal_Weight', 'NObeyesdad__Obesity_Type_I',\n",
        "       'NObeyesdad__Obesity_Type_II', 'NObeyesdad__Obesity_Type_III',\n",
        "       'NObeyesdad__Overweight_Level_I', 'NObeyesdad__Overweight_Level_II']\n",
        "X = dataset.drop(columns=d)\n",
        "y = dataset[d]\n",
        "print(y.columns)"
      ]
    },
    {
      "cell_type": "code",
      "execution_count": 6,
      "metadata": {
        "id": "Qp0n1_zibO0c"
      },
      "outputs": [],
      "source": [
        "scaler = MinMaxScaler(feature_range=(0, 1))\n",
        "X_rescaled = scaler.fit_transform(X)\n",
        "X = pd.DataFrame(data = X_rescaled, columns = X.columns)"
      ]
    },
    {
      "cell_type": "markdown",
      "source": [
        "Split the data and run the model"
      ],
      "metadata": {
        "id": "-AB6XYKDc-4Q"
      }
    },
    {
      "cell_type": "code",
      "execution_count": 7,
      "metadata": {
        "colab": {
          "base_uri": "https://localhost:8080/"
        },
        "id": "ZmcTrzGubO0c",
        "outputId": "b7549f41-8975-4fe2-8f77-2f805de1db38"
      },
      "outputs": [
        {
          "output_type": "stream",
          "name": "stdout",
          "text": [
            "(1688, 31)\n",
            "(1688, 7)\n"
          ]
        }
      ],
      "source": [
        "data_train, data_test, class_train, class_test = train_test_split(X, y, test_size=0.2)\n",
        "print(data_train.shape)\n",
        "print(class_train.shape)\n",
        "mlp = MLPClassifier(solver = 'sgd', activation = 'logistic', learning_rate_init = 0.4, batch_size = 100, hidden_layer_sizes = (17, 20), max_iter = 600)"
      ]
    },
    {
      "cell_type": "code",
      "execution_count": 8,
      "metadata": {
        "colab": {
          "base_uri": "https://localhost:8080/",
          "height": 109
        },
        "id": "uX9RxXWmbO0c",
        "outputId": "9edb9f93-1c7e-458b-ce0d-7e9a85cabe18"
      },
      "outputs": [
        {
          "output_type": "execute_result",
          "data": {
            "text/plain": [
              "MLPClassifier(activation='logistic', batch_size=100,\n",
              "              hidden_layer_sizes=(17, 20), learning_rate_init=0.4, max_iter=600,\n",
              "              solver='sgd')"
            ],
            "text/html": [
              "<style>#sk-container-id-1 {color: black;background-color: white;}#sk-container-id-1 pre{padding: 0;}#sk-container-id-1 div.sk-toggleable {background-color: white;}#sk-container-id-1 label.sk-toggleable__label {cursor: pointer;display: block;width: 100%;margin-bottom: 0;padding: 0.3em;box-sizing: border-box;text-align: center;}#sk-container-id-1 label.sk-toggleable__label-arrow:before {content: \"▸\";float: left;margin-right: 0.25em;color: #696969;}#sk-container-id-1 label.sk-toggleable__label-arrow:hover:before {color: black;}#sk-container-id-1 div.sk-estimator:hover label.sk-toggleable__label-arrow:before {color: black;}#sk-container-id-1 div.sk-toggleable__content {max-height: 0;max-width: 0;overflow: hidden;text-align: left;background-color: #f0f8ff;}#sk-container-id-1 div.sk-toggleable__content pre {margin: 0.2em;color: black;border-radius: 0.25em;background-color: #f0f8ff;}#sk-container-id-1 input.sk-toggleable__control:checked~div.sk-toggleable__content {max-height: 200px;max-width: 100%;overflow: auto;}#sk-container-id-1 input.sk-toggleable__control:checked~label.sk-toggleable__label-arrow:before {content: \"▾\";}#sk-container-id-1 div.sk-estimator input.sk-toggleable__control:checked~label.sk-toggleable__label {background-color: #d4ebff;}#sk-container-id-1 div.sk-label input.sk-toggleable__control:checked~label.sk-toggleable__label {background-color: #d4ebff;}#sk-container-id-1 input.sk-hidden--visually {border: 0;clip: rect(1px 1px 1px 1px);clip: rect(1px, 1px, 1px, 1px);height: 1px;margin: -1px;overflow: hidden;padding: 0;position: absolute;width: 1px;}#sk-container-id-1 div.sk-estimator {font-family: monospace;background-color: #f0f8ff;border: 1px dotted black;border-radius: 0.25em;box-sizing: border-box;margin-bottom: 0.5em;}#sk-container-id-1 div.sk-estimator:hover {background-color: #d4ebff;}#sk-container-id-1 div.sk-parallel-item::after {content: \"\";width: 100%;border-bottom: 1px solid gray;flex-grow: 1;}#sk-container-id-1 div.sk-label:hover label.sk-toggleable__label {background-color: #d4ebff;}#sk-container-id-1 div.sk-serial::before {content: \"\";position: absolute;border-left: 1px solid gray;box-sizing: border-box;top: 0;bottom: 0;left: 50%;z-index: 0;}#sk-container-id-1 div.sk-serial {display: flex;flex-direction: column;align-items: center;background-color: white;padding-right: 0.2em;padding-left: 0.2em;position: relative;}#sk-container-id-1 div.sk-item {position: relative;z-index: 1;}#sk-container-id-1 div.sk-parallel {display: flex;align-items: stretch;justify-content: center;background-color: white;position: relative;}#sk-container-id-1 div.sk-item::before, #sk-container-id-1 div.sk-parallel-item::before {content: \"\";position: absolute;border-left: 1px solid gray;box-sizing: border-box;top: 0;bottom: 0;left: 50%;z-index: -1;}#sk-container-id-1 div.sk-parallel-item {display: flex;flex-direction: column;z-index: 1;position: relative;background-color: white;}#sk-container-id-1 div.sk-parallel-item:first-child::after {align-self: flex-end;width: 50%;}#sk-container-id-1 div.sk-parallel-item:last-child::after {align-self: flex-start;width: 50%;}#sk-container-id-1 div.sk-parallel-item:only-child::after {width: 0;}#sk-container-id-1 div.sk-dashed-wrapped {border: 1px dashed gray;margin: 0 0.4em 0.5em 0.4em;box-sizing: border-box;padding-bottom: 0.4em;background-color: white;}#sk-container-id-1 div.sk-label label {font-family: monospace;font-weight: bold;display: inline-block;line-height: 1.2em;}#sk-container-id-1 div.sk-label-container {text-align: center;}#sk-container-id-1 div.sk-container {/* jupyter's `normalize.less` sets `[hidden] { display: none; }` but bootstrap.min.css set `[hidden] { display: none !important; }` so we also need the `!important` here to be able to override the default hidden behavior on the sphinx rendered scikit-learn.org. See: https://github.com/scikit-learn/scikit-learn/issues/21755 */display: inline-block !important;position: relative;}#sk-container-id-1 div.sk-text-repr-fallback {display: none;}</style><div id=\"sk-container-id-1\" class=\"sk-top-container\"><div class=\"sk-text-repr-fallback\"><pre>MLPClassifier(activation=&#x27;logistic&#x27;, batch_size=100,\n",
              "              hidden_layer_sizes=(17, 20), learning_rate_init=0.4, max_iter=600,\n",
              "              solver=&#x27;sgd&#x27;)</pre><b>In a Jupyter environment, please rerun this cell to show the HTML representation or trust the notebook. <br />On GitHub, the HTML representation is unable to render, please try loading this page with nbviewer.org.</b></div><div class=\"sk-container\" hidden><div class=\"sk-item\"><div class=\"sk-estimator sk-toggleable\"><input class=\"sk-toggleable__control sk-hidden--visually\" id=\"sk-estimator-id-1\" type=\"checkbox\" checked><label for=\"sk-estimator-id-1\" class=\"sk-toggleable__label sk-toggleable__label-arrow\">MLPClassifier</label><div class=\"sk-toggleable__content\"><pre>MLPClassifier(activation=&#x27;logistic&#x27;, batch_size=100,\n",
              "              hidden_layer_sizes=(17, 20), learning_rate_init=0.4, max_iter=600,\n",
              "              solver=&#x27;sgd&#x27;)</pre></div></div></div></div></div>"
            ]
          },
          "metadata": {},
          "execution_count": 8
        }
      ],
      "source": [
        "mlp.fit(data_train, class_train)"
      ]
    },
    {
      "cell_type": "code",
      "execution_count": 9,
      "metadata": {
        "id": "LKFB0PCybO0c"
      },
      "outputs": [],
      "source": [
        "pred = mlp.predict(data_test)"
      ]
    },
    {
      "cell_type": "code",
      "execution_count": 10,
      "metadata": {
        "colab": {
          "base_uri": "https://localhost:8080/"
        },
        "id": "NcSkeQ4ibO0d",
        "outputId": "afdcf2ad-dfb6-41d6-aeeb-b89a011b3fd2"
      },
      "outputs": [
        {
          "output_type": "stream",
          "name": "stdout",
          "text": [
            "[[0 0 0 ... 0 0 1]\n",
            " [0 0 0 ... 0 1 0]\n",
            " [0 0 0 ... 0 0 1]\n",
            " ...\n",
            " [0 0 0 ... 0 0 0]\n",
            " [0 0 0 ... 0 1 0]\n",
            " [0 0 0 ... 1 0 0]]\n"
          ]
        }
      ],
      "source": [
        "print(pred)"
      ]
    },
    {
      "cell_type": "code",
      "execution_count": 11,
      "metadata": {
        "colab": {
          "base_uri": "https://localhost:8080/"
        },
        "id": "HA-QszDGbO0d",
        "outputId": "b50639ac-d287-4449-c301-11ff34797797"
      },
      "outputs": [
        {
          "output_type": "stream",
          "name": "stdout",
          "text": [
            "Accuracy :  0.9314420803782506\n",
            "Mean Square Error :  0.018574805808848367\n"
          ]
        }
      ],
      "source": [
        "print(\"Accuracy : \", accuracy_score(class_test, pred))\n",
        "print(\"Mean Square Error : \", mean_squared_error(class_test, pred))"
      ]
    },
    {
      "cell_type": "code",
      "execution_count": 12,
      "metadata": {
        "colab": {
          "base_uri": "https://localhost:8080/"
        },
        "id": "HgHm2mL5bO0d",
        "outputId": "43f7d469-da70-457c-aedc-e279a2e2c1a1"
      },
      "outputs": [
        {
          "output_type": "stream",
          "name": "stdout",
          "text": [
            "[[[361   2]\n",
            "  [  5  55]]\n",
            "\n",
            " [[359   9]\n",
            "  [  6  49]]\n",
            "\n",
            " [[347   1]\n",
            "  [  4  71]]\n",
            "\n",
            " [[358   0]\n",
            "  [  1  64]]\n",
            "\n",
            " [[364   0]\n",
            "  [  0  59]]\n",
            "\n",
            " [[369   8]\n",
            "  [  7  39]]\n",
            "\n",
            " [[352   8]\n",
            "  [  4  59]]]\n",
            "Classification Report : \n",
            "              precision    recall  f1-score   support\n",
            "\n",
            "           0       0.96      0.92      0.94        60\n",
            "           1       0.84      0.89      0.87        55\n",
            "           2       0.99      0.95      0.97        75\n",
            "           3       1.00      0.98      0.99        65\n",
            "           4       1.00      1.00      1.00        59\n",
            "           5       0.83      0.85      0.84        46\n",
            "           6       0.88      0.94      0.91        63\n",
            "\n",
            "   micro avg       0.93      0.94      0.94       423\n",
            "   macro avg       0.93      0.93      0.93       423\n",
            "weighted avg       0.94      0.94      0.94       423\n",
            " samples avg       0.93      0.94      0.93       423\n",
            "\n"
          ]
        }
      ],
      "source": [
        "print(multilabel_confusion_matrix(class_test, pred))\n",
        "\n",
        "print(\"Classification Report : \")\n",
        "print(classification_report(class_test, pred))"
      ]
    },
    {
      "cell_type": "markdown",
      "metadata": {
        "id": "Fi-gC2B7bO0e"
      },
      "source": [
        "Cross Validation"
      ]
    },
    {
      "cell_type": "code",
      "execution_count": 13,
      "metadata": {
        "colab": {
          "base_uri": "https://localhost:8080/"
        },
        "id": "-WSR-rslbO0f",
        "outputId": "9c70e71a-29aa-4fb4-ea32-873fd236fff8"
      },
      "outputs": [
        {
          "output_type": "stream",
          "name": "stdout",
          "text": [
            "Accuracy\n",
            "[0.72169811 0.8056872  0.93364929 0.96208531 0.89099526 0.84834123\n",
            " 0.97156398 0.99052133 0.99052133 1.        ]\n",
            "MSE\n",
            "[0.07614555 0.0534868  0.01760325 0.00947867 0.02911307 0.03926879\n",
            " 0.00541638 0.0013541  0.00203114 0.        ]\n",
            "Average Accuracy =  0.9115063042117499\n",
            "Average MSE =  0.023389775296687575\n"
          ]
        }
      ],
      "source": [
        "from sklearn.model_selection import cross_validate\n",
        "mlpCV = cross_validate(mlp, X, y, cv=10, scoring=['accuracy', 'neg_mean_squared_error'])\n",
        "#print all the accuracy values from each iteration\n",
        "print('Accuracy')\n",
        "print(mlpCV['test_accuracy'])\n",
        "#print all the MSE values from each iteration\n",
        "print('MSE')\n",
        "print(-1*mlpCV['test_neg_mean_squared_error'])\n",
        "print('Average Accuracy = ',  sum(mlpCV['test_accuracy'])/len(mlpCV['test_accuracy']))\n",
        "print('Average MSE = ', sum(-1 * mlpCV['test_neg_mean_squared_error']) / len(mlpCV['test_neg_mean_squared_error']))"
      ]
    },
    {
      "cell_type": "markdown",
      "source": [
        "Hyperparameter Tuning"
      ],
      "metadata": {
        "id": "NXeuwxBedDQv"
      }
    },
    {
      "cell_type": "code",
      "execution_count": 14,
      "metadata": {
        "colab": {
          "base_uri": "https://localhost:8080/",
          "height": 118
        },
        "id": "eE_QmsL3bO0g",
        "outputId": "6e7728bc-8507-49d3-e986-4dd60e6ed0e9"
      },
      "outputs": [
        {
          "output_type": "execute_result",
          "data": {
            "text/plain": [
              "GridSearchCV(estimator=MLPClassifier(activation='logistic', batch_size=100,\n",
              "                                     hidden_layer_sizes=(17, 20),\n",
              "                                     learning_rate_init=0.4, max_iter=600,\n",
              "                                     solver='sgd'),\n",
              "             param_grid={'activation': ['logistic', 'relu', 'tanh'],\n",
              "                         'hidden_layer_sizes': [(17, 20), (17, 20, 15),\n",
              "                                                (17, 20, 20)],\n",
              "                         'learning_rate_init': [0.3, 0.4, 0.5],\n",
              "                         'max_iter': [500, 600, 700]},\n",
              "             scoring='accuracy')"
            ],
            "text/html": [
              "<style>#sk-container-id-2 {color: black;background-color: white;}#sk-container-id-2 pre{padding: 0;}#sk-container-id-2 div.sk-toggleable {background-color: white;}#sk-container-id-2 label.sk-toggleable__label {cursor: pointer;display: block;width: 100%;margin-bottom: 0;padding: 0.3em;box-sizing: border-box;text-align: center;}#sk-container-id-2 label.sk-toggleable__label-arrow:before {content: \"▸\";float: left;margin-right: 0.25em;color: #696969;}#sk-container-id-2 label.sk-toggleable__label-arrow:hover:before {color: black;}#sk-container-id-2 div.sk-estimator:hover label.sk-toggleable__label-arrow:before {color: black;}#sk-container-id-2 div.sk-toggleable__content {max-height: 0;max-width: 0;overflow: hidden;text-align: left;background-color: #f0f8ff;}#sk-container-id-2 div.sk-toggleable__content pre {margin: 0.2em;color: black;border-radius: 0.25em;background-color: #f0f8ff;}#sk-container-id-2 input.sk-toggleable__control:checked~div.sk-toggleable__content {max-height: 200px;max-width: 100%;overflow: auto;}#sk-container-id-2 input.sk-toggleable__control:checked~label.sk-toggleable__label-arrow:before {content: \"▾\";}#sk-container-id-2 div.sk-estimator input.sk-toggleable__control:checked~label.sk-toggleable__label {background-color: #d4ebff;}#sk-container-id-2 div.sk-label input.sk-toggleable__control:checked~label.sk-toggleable__label {background-color: #d4ebff;}#sk-container-id-2 input.sk-hidden--visually {border: 0;clip: rect(1px 1px 1px 1px);clip: rect(1px, 1px, 1px, 1px);height: 1px;margin: -1px;overflow: hidden;padding: 0;position: absolute;width: 1px;}#sk-container-id-2 div.sk-estimator {font-family: monospace;background-color: #f0f8ff;border: 1px dotted black;border-radius: 0.25em;box-sizing: border-box;margin-bottom: 0.5em;}#sk-container-id-2 div.sk-estimator:hover {background-color: #d4ebff;}#sk-container-id-2 div.sk-parallel-item::after {content: \"\";width: 100%;border-bottom: 1px solid gray;flex-grow: 1;}#sk-container-id-2 div.sk-label:hover label.sk-toggleable__label {background-color: #d4ebff;}#sk-container-id-2 div.sk-serial::before {content: \"\";position: absolute;border-left: 1px solid gray;box-sizing: border-box;top: 0;bottom: 0;left: 50%;z-index: 0;}#sk-container-id-2 div.sk-serial {display: flex;flex-direction: column;align-items: center;background-color: white;padding-right: 0.2em;padding-left: 0.2em;position: relative;}#sk-container-id-2 div.sk-item {position: relative;z-index: 1;}#sk-container-id-2 div.sk-parallel {display: flex;align-items: stretch;justify-content: center;background-color: white;position: relative;}#sk-container-id-2 div.sk-item::before, #sk-container-id-2 div.sk-parallel-item::before {content: \"\";position: absolute;border-left: 1px solid gray;box-sizing: border-box;top: 0;bottom: 0;left: 50%;z-index: -1;}#sk-container-id-2 div.sk-parallel-item {display: flex;flex-direction: column;z-index: 1;position: relative;background-color: white;}#sk-container-id-2 div.sk-parallel-item:first-child::after {align-self: flex-end;width: 50%;}#sk-container-id-2 div.sk-parallel-item:last-child::after {align-self: flex-start;width: 50%;}#sk-container-id-2 div.sk-parallel-item:only-child::after {width: 0;}#sk-container-id-2 div.sk-dashed-wrapped {border: 1px dashed gray;margin: 0 0.4em 0.5em 0.4em;box-sizing: border-box;padding-bottom: 0.4em;background-color: white;}#sk-container-id-2 div.sk-label label {font-family: monospace;font-weight: bold;display: inline-block;line-height: 1.2em;}#sk-container-id-2 div.sk-label-container {text-align: center;}#sk-container-id-2 div.sk-container {/* jupyter's `normalize.less` sets `[hidden] { display: none; }` but bootstrap.min.css set `[hidden] { display: none !important; }` so we also need the `!important` here to be able to override the default hidden behavior on the sphinx rendered scikit-learn.org. See: https://github.com/scikit-learn/scikit-learn/issues/21755 */display: inline-block !important;position: relative;}#sk-container-id-2 div.sk-text-repr-fallback {display: none;}</style><div id=\"sk-container-id-2\" class=\"sk-top-container\"><div class=\"sk-text-repr-fallback\"><pre>GridSearchCV(estimator=MLPClassifier(activation=&#x27;logistic&#x27;, batch_size=100,\n",
              "                                     hidden_layer_sizes=(17, 20),\n",
              "                                     learning_rate_init=0.4, max_iter=600,\n",
              "                                     solver=&#x27;sgd&#x27;),\n",
              "             param_grid={&#x27;activation&#x27;: [&#x27;logistic&#x27;, &#x27;relu&#x27;, &#x27;tanh&#x27;],\n",
              "                         &#x27;hidden_layer_sizes&#x27;: [(17, 20), (17, 20, 15),\n",
              "                                                (17, 20, 20)],\n",
              "                         &#x27;learning_rate_init&#x27;: [0.3, 0.4, 0.5],\n",
              "                         &#x27;max_iter&#x27;: [500, 600, 700]},\n",
              "             scoring=&#x27;accuracy&#x27;)</pre><b>In a Jupyter environment, please rerun this cell to show the HTML representation or trust the notebook. <br />On GitHub, the HTML representation is unable to render, please try loading this page with nbviewer.org.</b></div><div class=\"sk-container\" hidden><div class=\"sk-item sk-dashed-wrapped\"><div class=\"sk-label-container\"><div class=\"sk-label sk-toggleable\"><input class=\"sk-toggleable__control sk-hidden--visually\" id=\"sk-estimator-id-2\" type=\"checkbox\" ><label for=\"sk-estimator-id-2\" class=\"sk-toggleable__label sk-toggleable__label-arrow\">GridSearchCV</label><div class=\"sk-toggleable__content\"><pre>GridSearchCV(estimator=MLPClassifier(activation=&#x27;logistic&#x27;, batch_size=100,\n",
              "                                     hidden_layer_sizes=(17, 20),\n",
              "                                     learning_rate_init=0.4, max_iter=600,\n",
              "                                     solver=&#x27;sgd&#x27;),\n",
              "             param_grid={&#x27;activation&#x27;: [&#x27;logistic&#x27;, &#x27;relu&#x27;, &#x27;tanh&#x27;],\n",
              "                         &#x27;hidden_layer_sizes&#x27;: [(17, 20), (17, 20, 15),\n",
              "                                                (17, 20, 20)],\n",
              "                         &#x27;learning_rate_init&#x27;: [0.3, 0.4, 0.5],\n",
              "                         &#x27;max_iter&#x27;: [500, 600, 700]},\n",
              "             scoring=&#x27;accuracy&#x27;)</pre></div></div></div><div class=\"sk-parallel\"><div class=\"sk-parallel-item\"><div class=\"sk-item\"><div class=\"sk-label-container\"><div class=\"sk-label sk-toggleable\"><input class=\"sk-toggleable__control sk-hidden--visually\" id=\"sk-estimator-id-3\" type=\"checkbox\" ><label for=\"sk-estimator-id-3\" class=\"sk-toggleable__label sk-toggleable__label-arrow\">estimator: MLPClassifier</label><div class=\"sk-toggleable__content\"><pre>MLPClassifier(activation=&#x27;logistic&#x27;, batch_size=100,\n",
              "              hidden_layer_sizes=(17, 20), learning_rate_init=0.4, max_iter=600,\n",
              "              solver=&#x27;sgd&#x27;)</pre></div></div></div><div class=\"sk-serial\"><div class=\"sk-item\"><div class=\"sk-estimator sk-toggleable\"><input class=\"sk-toggleable__control sk-hidden--visually\" id=\"sk-estimator-id-4\" type=\"checkbox\" ><label for=\"sk-estimator-id-4\" class=\"sk-toggleable__label sk-toggleable__label-arrow\">MLPClassifier</label><div class=\"sk-toggleable__content\"><pre>MLPClassifier(activation=&#x27;logistic&#x27;, batch_size=100,\n",
              "              hidden_layer_sizes=(17, 20), learning_rate_init=0.4, max_iter=600,\n",
              "              solver=&#x27;sgd&#x27;)</pre></div></div></div></div></div></div></div></div></div></div>"
            ]
          },
          "metadata": {},
          "execution_count": 14
        }
      ],
      "source": [
        "#MLP hyperparameter tuning\n",
        "\n",
        "#logic from hw3demo\n",
        "#set up parameters\n",
        "max_iterations = [500,600,700]\n",
        "hidden_layer_size = [(17, 20), (17,20,15), (17, 20, 20)]\n",
        "activations = [\"logistic\", \"relu\", \"tanh\"]\n",
        "learning_rate_inits = [0.3,0.4,0.5]\n",
        "params = dict(activation = activations, hidden_layer_sizes = hidden_layer_size, max_iter = max_iterations, learning_rate_init = learning_rate_inits)\n",
        "grid = GridSearchCV(estimator = mlp, param_grid=params, scoring=\"accuracy\")\n",
        "grid.fit(X, y)"
      ]
    },
    {
      "cell_type": "code",
      "execution_count": 15,
      "metadata": {
        "colab": {
          "base_uri": "https://localhost:8080/"
        },
        "id": "cICbGGelbO0g",
        "outputId": "8da1fb55-e47a-4c2c-e35e-dbf9e4d51e05"
      },
      "outputs": [
        {
          "output_type": "stream",
          "name": "stdout",
          "text": [
            "Optimal Hyper-Parameters: {'activation': 'logistic', 'hidden_layer_sizes': (17, 20), 'learning_rate_init': 0.4, 'max_iter': 700}\n",
            "Optimal Accuracy: 0.8309995182234771\n"
          ]
        }
      ],
      "source": [
        "#results\n",
        "print(\"Optimal Hyper-Parameters:\", grid.best_params_)\n",
        "print(\"Optimal Accuracy:\", grid.best_score_)"
      ]
    },
    {
      "cell_type": "code",
      "execution_count": 19,
      "metadata": {
        "colab": {
          "base_uri": "https://localhost:8080/"
        },
        "id": "tmy9L8XNbO0h",
        "outputId": "2dfa9d00-bb22-426e-aa87-00bc4cd54bec"
      },
      "outputs": [
        {
          "output_type": "stream",
          "name": "stdout",
          "text": [
            "Accuracy :  0.9408983451536643\n",
            "Mean Square Error :  0.014859844647078692\n"
          ]
        }
      ],
      "source": [
        "#make optimal MLP\n",
        "optimalMLP = MLPClassifier(solver = 'sgd', random_state = 42, activation = 'logistic', learning_rate_init = 0.4, batch_size = 100, hidden_layer_sizes = (17, 20), max_iter = 700)\n",
        "#fit and predict\n",
        "optimalMLP.fit(data_train, class_train)\n",
        "pred = optimalMLP.predict(data_test)\n",
        "#results\n",
        "print(\"Accuracy : \", accuracy_score(class_test, pred))\n",
        "print(\"Mean Square Error : \", mean_squared_error(class_test, pred))"
      ]
    },
    {
      "cell_type": "code",
      "execution_count": 20,
      "metadata": {
        "colab": {
          "base_uri": "https://localhost:8080/"
        },
        "id": "o9y_hCkgbO0h",
        "outputId": "bd83fbfc-acf7-4c38-bad8-9edb67496020"
      },
      "outputs": [
        {
          "output_type": "stream",
          "name": "stdout",
          "text": [
            "[[[360   3]\n",
            "  [  2  58]]\n",
            "\n",
            " [[367   1]\n",
            "  [ 10  45]]\n",
            "\n",
            " [[348   0]\n",
            "  [  1  74]]\n",
            "\n",
            " [[358   0]\n",
            "  [  0  65]]\n",
            "\n",
            " [[364   0]\n",
            "  [  0  59]]\n",
            "\n",
            " [[365  12]\n",
            "  [  5  41]]\n",
            "\n",
            " [[357   3]\n",
            "  [  7  56]]]\n",
            "Classification Report : \n",
            "              precision    recall  f1-score   support\n",
            "\n",
            "           0       0.95      0.97      0.96        60\n",
            "           1       0.98      0.82      0.89        55\n",
            "           2       1.00      0.99      0.99        75\n",
            "           3       1.00      1.00      1.00        65\n",
            "           4       1.00      1.00      1.00        59\n",
            "           5       0.77      0.89      0.83        46\n",
            "           6       0.95      0.89      0.92        63\n",
            "\n",
            "   micro avg       0.95      0.94      0.95       423\n",
            "   macro avg       0.95      0.94      0.94       423\n",
            "weighted avg       0.96      0.94      0.95       423\n",
            " samples avg       0.94      0.94      0.94       423\n",
            "\n"
          ]
        }
      ],
      "source": [
        "#MORE results\n",
        "print(multilabel_confusion_matrix(class_test, pred))\n",
        "\n",
        "print(\"Classification Report : \")\n",
        "print(classification_report(class_test, pred))"
      ]
    },
    {
      "cell_type": "code",
      "execution_count": 21,
      "metadata": {
        "colab": {
          "base_uri": "https://localhost:8080/"
        },
        "id": "MAibCpAxbO0i",
        "outputId": "a5ea0923-4f28-4527-aac2-d05d01f1b517"
      },
      "outputs": [
        {
          "output_type": "stream",
          "name": "stdout",
          "text": [
            "Accuracy\n",
            "[0.66037736 0.72985782 0.94312796 0.97630332 0.8436019  0.99052133\n",
            " 0.96682464 0.99052133 1.         1.        ]\n",
            "MSE\n",
            "[0.0902965  0.07109005 0.01557211 0.00473934 0.03452945 0.00203114\n",
            " 0.00880162 0.00203114 0.         0.        ]\n",
            "Average Accuracy =  0.9101135652329428\n",
            "Average MSE =  0.022909135039153816\n"
          ]
        }
      ],
      "source": [
        "#Cross Validation for Optimized MLP\n",
        "optimal_CV = cross_validate(optimalMLP, X, y, cv=10, scoring=['accuracy', 'neg_mean_squared_error'])\n",
        "#print all the accuracy values from each iteration\n",
        "print('Accuracy')\n",
        "print(optimal_CV['test_accuracy'])\n",
        "#print all the MSE values from each iteration\n",
        "print('MSE')\n",
        "print(-1*optimal_CV['test_neg_mean_squared_error'])\n",
        "\n",
        "print('Average Accuracy = ', sum(optimal_CV['test_accuracy']) / len(optimal_CV['test_accuracy']))\n",
        "print('Average MSE = ', sum(-1 * optimal_CV['test_neg_mean_squared_error']) / len(optimal_CV['test_neg_mean_squared_error']))"
      ]
    }
  ],
  "metadata": {
    "kernelspec": {
      "display_name": "base",
      "language": "python",
      "name": "python3"
    },
    "language_info": {
      "codemirror_mode": {
        "name": "ipython",
        "version": 3
      },
      "file_extension": ".py",
      "mimetype": "text/x-python",
      "name": "python",
      "nbconvert_exporter": "python",
      "pygments_lexer": "ipython3",
      "version": "3.11.4"
    },
    "colab": {
      "provenance": []
    }
  },
  "nbformat": 4,
  "nbformat_minor": 0
}